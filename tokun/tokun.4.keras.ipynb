{
  "cells": [
    {
      "cell_type": "markdown",
      "metadata": {
        "id": "_pQCOmISAQBu"
      },
      "source": [
        "## Enabling and testing the TPU"
      ]
    },
    {
      "cell_type": "code",
      "execution_count": 1,
      "metadata": {
        "colab": {
          "base_uri": "https://localhost:8080/"
        },
        "id": "FpvUOuC3j27n",
        "outputId": "3fb8aad4-a57b-4c31-fd07-78efb379b164"
      },
      "outputs": [
        {
          "output_type": "stream",
          "name": "stdout",
          "text": [
            "Tensorflow version 2.15.0\n"
          ]
        }
      ],
      "source": [
        "import datetime\n",
        "import functools\n",
        "import math\n",
        "import os\n",
        "\n",
        "import tensorflow as tf\n",
        "import tensorflow_datasets as tfds\n",
        "\n",
        "# %load_ext tensorboard\n",
        "\n",
        "print(\"Tensorflow version \" + tf.__version__)"
      ]
    },
    {
      "cell_type": "code",
      "execution_count": 2,
      "metadata": {
        "colab": {
          "base_uri": "https://localhost:8080/"
        },
        "id": "vFIMfPmgQa0h",
        "outputId": "ba91ae80-8bb1-48c9-aa8a-5d2034839c18"
      },
      "outputs": [
        {
          "output_type": "stream",
          "name": "stdout",
          "text": [
            "[LogicalDevice(name='/device:GPU:0', device_type='GPU')]\n"
          ]
        }
      ],
      "source": [
        "tf.debugging.set_log_device_placement(False)\n",
        "GPU = tf.config.list_logical_devices('GPU')\n",
        "GPU_STRATEGY = tf.distribute.MirroredStrategy(GPU)\n",
        "\n",
        "print(GPU)"
      ]
    },
    {
      "cell_type": "markdown",
      "metadata": {
        "id": "0t1jfsJlM3SX"
      },
      "source": [
        "## Defining The Metadata"
      ]
    },
    {
      "cell_type": "code",
      "execution_count": 6,
      "metadata": {
        "id": "8Z74MlibMWnu"
      },
      "outputs": [],
      "source": [
        "# META ########################################################################\n",
        "\n",
        "N_DEPTH = 2 # D\n",
        "N_TOKEN_DIM = 4 # G\n",
        "N_ENCODING_DIM = 256 # U\n",
        "N_EMBEDDING_DIM = N_ENCODING_DIM # E\n",
        "N_LATENT_DIM = N_EMBEDDING_DIM # L\n",
        "\n",
        "N_EPOCHS = 16\n",
        "N_EPOCHS_RAMPUP = 8\n",
        "N_EPOCHS_SUSTAIN = 0\n",
        "\n",
        "N_BATCH = 128 # number of samples per batch\n",
        "N_SAMPLE = 128 # number of characters per sample (=> N_TOKEN_DIM * N_SAMPLE int per sample)\n",
        "\n",
        "R_MIN = 0.0001\n",
        "R_MAX = 0.001\n",
        "R_EXP = .8\n",
        "\n",
        "VERSION = 'tokun-4-keras-1M200K'"
      ]
    },
    {
      "cell_type": "markdown",
      "metadata": {
        "id": "dEyFtkcFNGe4"
      },
      "source": [
        "## Loading The Data"
      ]
    },
    {
      "cell_type": "code",
      "execution_count": 7,
      "metadata": {
        "id": "4a3SQUQHNJ6M"
      },
      "outputs": [],
      "source": [
        "# DATA ########################################################################\n",
        "\n",
        "# DATA_TRAIN, DATA_TEST = tfds.load('mlqadd', split=['train', 'test'], as_supervised=True, shuffle_files=True, data_dir='~/.cache/tensorflow/', builder_kwargs={'train_lang': ['en'], 'test_lang': ['es']})\n",
        "LANG = ['ar', 'de', 'en', 'es', 'hi', 'vi', 'zh']\n",
        "DATA = {__l: tfds.load('mlqa/' + __l, split='test', as_supervised=False, shuffle_files=True, data_dir='~/.cache/tensorflow/', batch_size=N_BATCH) for __l in LANG}"
      ]
    },
    {
      "cell_type": "markdown",
      "metadata": {
        "id": "WdWFiijDnwa4"
      },
      "source": [
        "## LAYERS"
      ]
    },
    {
      "cell_type": "code",
      "execution_count": 8,
      "metadata": {
        "id": "x1HZhkT9Rtz4"
      },
      "outputs": [],
      "source": [
        "# EMBEDDING ###################################################################\n",
        "\n",
        "class PositionalEmbedding(tf.keras.layers.Layer):\n",
        "    def __init__(\n",
        "        self,\n",
        "        input_axis: int=1, # axis of the sequence\n",
        "        output_axis: int=-1, # axis of the embedding\n",
        "        **kwargs\n",
        "    ):\n",
        "        super(PositionalEmbedding, self).__init__(**kwargs)\n",
        "        self._input_axis = input_axis\n",
        "        self._output_axis = output_axis\n",
        "        self._kernel = None\n",
        "\n",
        "    def build(self, input_shape: tuple):\n",
        "        # shape\n",
        "        __axes = [self._input_axis % len(input_shape), self._output_axis % len(input_shape)]\n",
        "        __shape = [(__d if __i in __axes else 1) for __i, __d in enumerate(list(input_shape))]\n",
        "        # init values\n",
        "        __kernel_init = tf.keras.initializers.GlorotNormal()\n",
        "        # register the weights\n",
        "        self._kernel = self.add_weight(name=\"kernel\", shape=__shape, initializer=__kernel_init)\n",
        "        # notify the model\n",
        "        self.built = True\n",
        "\n",
        "    def call(self, inputs: tf.Tensor):\n",
        "        return inputs + self._kernel # each index in the sequence axis has a dedicated bias (different from dense bias)\n",
        "\n",
        "# RESHAPING ###################################################################\n",
        "\n",
        "def _normalize_shape(shape: list) -> list:\n",
        "    return [-1 if __d is None else __d for __d in shape]\n",
        "\n",
        "def _normalize_dim(dim: int) -> int:\n",
        "    return -1 if (dim is None or dim < 0) else dim\n",
        "\n",
        "def _multiply_dim(dim_l: int, dim_r: int) -> int:\n",
        "    return -1 if (dim_l == -1 or dim_r == -1) else dim_l * dim_r\n",
        "\n",
        "def _divide_dim(dim_l: int, dim_r: int) -> int:\n",
        "    return -1 if (dim_l == -1 or dim_r == -1) else dim_l // dim_r\n",
        "\n",
        "class Divide(tf.keras.layers.Layer):\n",
        "    def __init__(\n",
        "        self,\n",
        "        input_axis: int, # relative to the NEW shape / rank\n",
        "        output_axis: int, # same\n",
        "        factor: int,\n",
        "        insert: bool=False,\n",
        "        **kwargs\n",
        "    ) -> None:\n",
        "        super(Divide, self).__init__(**kwargs)\n",
        "        self._input_axis = input_axis\n",
        "        self._output_axis = output_axis\n",
        "        self._factor = factor\n",
        "        self._insert = insert\n",
        "\n",
        "    def call(self, inputs: tf.Tensor) -> tf.Tensor:\n",
        "        # infer the dimension of the symbolic axis\n",
        "        __shape = _normalize_shape(list(inputs.shape))\n",
        "        # rank, according to the new shape\n",
        "        __rank = len(__shape) + int(self._insert)\n",
        "        # axes, taken from the new shape\n",
        "        __axis0 = self._input_axis % __rank\n",
        "        __axis1 = self._output_axis % __rank\n",
        "        # option to group data on a new axistho i do it with other\n",
        "        if self._insert: __shape.insert(__axis1, 1)\n",
        "        # move data from axis 0 to axis 1\n",
        "        __shape[__axis0] = _divide_dim(__shape[__axis0], self._factor)\n",
        "        __shape[__axis1] = _multiply_dim(__shape[__axis1], self._factor)\n",
        "        return tf.reshape(tensor=inputs, shape=__shape)\n",
        "\n",
        "class Merge(tf.keras.layers.Layer):\n",
        "    def __init__(\n",
        "        self,\n",
        "        left_axis: int=-2,\n",
        "        right_axis: int=-1,\n",
        "        left: bool=True,\n",
        "        **kwargs\n",
        "    ) -> None:\n",
        "        super(Merge, self).__init__(**kwargs)\n",
        "        self._left_axis = left_axis\n",
        "        self._right_axis = right_axis\n",
        "        self._left = left\n",
        "\n",
        "    def call(self, inputs: tf.Tensor) -> tf.Tensor:\n",
        "        # infer the dimension of the symbolic axis\n",
        "        __shape = _normalize_shape(list(inputs.shape))\n",
        "        __rank = len(__shape)\n",
        "        # target axes\n",
        "        __axis_l = self._left_axis % __rank\n",
        "        __axis_r = self._right_axis % __rank\n",
        "        # new axis\n",
        "        __dim = _multiply_dim(__shape[__axis_l], __shape[__axis_r])\n",
        "        __axis_k = __axis_l if self._left else __axis_r # kept axis\n",
        "        __axis_d = __axis_r if self._left else __axis_l # deleted axis\n",
        "        # new shape\n",
        "        __shape[__axis_k] = __dim\n",
        "        __shape.pop(__axis_d)\n",
        "        # actually merge the two axes\n",
        "        return tf.reshape(tensor=inputs, shape=__shape)"
      ]
    },
    {
      "cell_type": "markdown",
      "metadata": {
        "id": "IgceZVOon0Mi"
      },
      "source": [
        "## Blocks"
      ]
    },
    {
      "cell_type": "code",
      "execution_count": 9,
      "metadata": {
        "id": "ITuRAod-n6Lm"
      },
      "outputs": [],
      "source": [
        "# ENCODING BLOCKS #############################################################\n",
        "\n",
        "class TokenizeBlock(tf.keras.layers.Layer):\n",
        "    def __init__(\n",
        "        self,\n",
        "        left_axis: int=-2,\n",
        "        right_axis: int=-1,\n",
        "        token_dim: int=4,\n",
        "        latent_dim: int=256,\n",
        "        **kwargs\n",
        "    ) -> None:\n",
        "        super(TokenizeBlock, self).__init__(**kwargs)\n",
        "        # layers\n",
        "        self._divide = Divide(input_axis=0, output_axis=1, factor=token_dim, insert=True, name='group') # (B * G, E) => (B, G, E)\n",
        "        self._embedding = PositionalEmbedding(input_axis=left_axis, output_axis=right_axis, name='position-embeddings') # (B, G, E) + (1, G, E)\n",
        "        self._merge = Merge(left_axis=left_axis, right_axis=right_axis, left=True, name='merge-embeddings') # (B, G, E) => (B, G * E)\n",
        "        self._dense = tf.keras.layers.Dense(units=latent_dim, activation='relu', use_bias=True, kernel_initializer='glorot_uniform', bias_initializer='zeros', name='compress-embeddings') # (B, G * E) => (B, L), typically L = E\n",
        "\n",
        "    def call(self, inputs: tf.Tensor) -> tf.Tensor:\n",
        "        return self._dense(self._merge(self._embedding(self._divide(inputs))))\n",
        "\n",
        "# DECODING BLOCKS #############################################################\n",
        "\n",
        "class DetokenizeBlock(tf.keras.layers.Layer):\n",
        "    def __init__(\n",
        "        self,\n",
        "        token_dim: int=4,\n",
        "        embedding_dim: int=256,\n",
        "        **kwargs\n",
        "    ) -> None:\n",
        "        super(DetokenizeBlock, self).__init__(**kwargs)\n",
        "        # layers\n",
        "        self._dense = tf.keras.layers.Dense(units=token_dim * embedding_dim, activation='relu', use_bias=True, kernel_initializer='glorot_uniform', bias_initializer='zeros', name='decompress-embeddings') # (B, L) => (B, G * E), typically L = E\n",
        "        self._divide = Divide(input_axis=-2, output_axis=-1, insert=True, factor=embedding_dim, name='divide-embeddings') # (B, G * E) => (B, G, E)\n",
        "        self._merge = Merge(left_axis=0, right_axis=1, left=True) # (B, G, E) => (B * G, E)\n",
        "\n",
        "    def call(self, inputs: tf.Tensor) -> tf.Tensor:\n",
        "        return self._merge(self._divide(self._dense(inputs)))\n",
        "\n",
        "# HEAD BLOCK ##################################################################\n",
        "\n",
        "class HeadBlock(tf.keras.layers.Layer):\n",
        "    def __init__(\n",
        "        self,\n",
        "        encoding_dim: int=256,\n",
        "        **kwargs\n",
        "    ) -> None:\n",
        "        super(HeadBlock, self).__init__(**kwargs)\n",
        "        # layers\n",
        "        self._dense = tf.keras.layers.Dense(units=encoding_dim, activation=None, use_bias=True, kernel_initializer='glorot_uniform', bias_initializer='zeros', name='project-head') # (..., G, E) => (..., G, U), typically U = E\n",
        "        self._softmax = tf.keras.layers.Softmax(axis=-1, name='softmax') # (..., G, U)\n",
        "\n",
        "    def call(self, inputs: tf.Tensor) -> tf.Tensor:\n",
        "        return self._softmax(self._dense(inputs))"
      ]
    },
    {
      "cell_type": "markdown",
      "metadata": {
        "id": "S39n2JmXG6yv"
      },
      "source": [
        "## Model"
      ]
    },
    {
      "cell_type": "code",
      "execution_count": 10,
      "metadata": {
        "id": "T0upuSDyELmZ"
      },
      "outputs": [],
      "source": [
        "# ENCODER #####################################################################\n",
        "\n",
        "class Encoder(tf.keras.models.Model):\n",
        "    def __init__(self, token_dim: int, encoding_dim: int, embedding_dim: int, latent_dim: int, batch_dim: int=None, **kwargs) -> None:\n",
        "        super(Encoder, self).__init__(**kwargs)\n",
        "        self._encoder = tf.keras.Sequential([\n",
        "            tf.keras.Input(shape=(encoding_dim,), batch_size=batch_dim, name='input'), # (B * G * G, U)\n",
        "            tf.keras.layers.Dense(units=embedding_dim, activation=None, use_bias=False, kernel_initializer='glorot_uniform', bias_initializer=None, name='embed-1'), # (B * G * G, U) => (B * G * G, E)\n",
        "            TokenizeBlock(left_axis=-2, right_axis=-1, token_dim=token_dim, latent_dim=latent_dim, name='tokenize-4'), # (B * G * G, E) => (B * G, E)\n",
        "            TokenizeBlock(left_axis=-2, right_axis=-1, token_dim=token_dim, latent_dim=latent_dim, name='tokenize-4-4'),]) # (B * G, E) => (B, E)\n",
        "\n",
        "    def call(self, x: tf.Tensor) -> tf.Tensor:\n",
        "        return self._encoder(x)\n",
        "\n",
        "# DECODER #####################################################################\n",
        "\n",
        "class Decoder(tf.keras.models.Model):\n",
        "    def __init__(self, token_dim: int, encoding_dim: int, embedding_dim: int, latent_dim: int, batch_dim: int=None, **kwargs) -> None:\n",
        "        super(Decoder, self).__init__(**kwargs)\n",
        "        self._decoder = tf.keras.Sequential([\n",
        "            tf.keras.Input(shape=(latent_dim,), batch_size=batch_dim, name='input'), # (B, E)\n",
        "            DetokenizeBlock(token_dim=token_dim, embedding_dim=embedding_dim, name='detokenize-4-4'), # (B, E) => (B * G, E)\n",
        "            DetokenizeBlock(token_dim=token_dim, embedding_dim=embedding_dim, name='detokenize-4'), # (B * G, E) => (B * G * G, E)\n",
        "            HeadBlock(encoding_dim=encoding_dim, name='project-head')]) # (B * G, E) => (B * G, U)\n",
        "\n",
        "    def call(self, x: tf.Tensor) -> tf.Tensor:\n",
        "        return self._decoder(x)\n",
        "\n",
        "# VAE #########################################################################\n",
        "\n",
        "class AutoEncoder(tf.keras.models.Model):\n",
        "    def __init__(self, token_dim: int, encoding_dim: int, embedding_dim: int, latent_dim: int, batch_dim: int=None, **kwargs) -> None:\n",
        "        super(AutoEncoder, self).__init__(**kwargs)\n",
        "        self._encoder = Encoder(token_dim=token_dim, encoding_dim=encoding_dim, embedding_dim=embedding_dim, latent_dim=latent_dim, batch_dim=None)\n",
        "        self._decoder = Decoder(token_dim=token_dim, encoding_dim=encoding_dim, embedding_dim=embedding_dim, latent_dim=latent_dim, batch_dim=None)\n",
        "\n",
        "    def call(self, x: tf.Tensor) -> tf.Tensor:\n",
        "        return self._decoder(self._encoder(x))"
      ]
    },
    {
      "cell_type": "code",
      "execution_count": 11,
      "metadata": {
        "id": "iEpY1-vFIFX7"
      },
      "outputs": [],
      "source": [
        "with GPU_STRATEGY.scope():\n",
        "  MODEL = AutoEncoder(token_dim=N_TOKEN_DIM, encoding_dim=N_ENCODING_DIM, embedding_dim=N_EMBEDDING_DIM, latent_dim=N_LATENT_DIM, batch_dim=N_BATCH)\n",
        "  MODEL.compile(\n",
        "    optimizer=tf.keras.optimizers.Adam(learning_rate=R_MAX),\n",
        "    loss=tf.keras.losses.CategoricalCrossentropy(from_logits=False, label_smoothing=0., axis=-1, reduction=tf.keras.losses.Reduction.SUM_OVER_BATCH_SIZE, name='loss'),\n",
        "    metrics=['accuracy'])\n"
      ]
    },
    {
      "cell_type": "markdown",
      "metadata": {
        "id": "8cheN52OEchs"
      },
      "source": [
        "## Train"
      ]
    },
    {
      "cell_type": "code",
      "execution_count": 14,
      "metadata": {
        "id": "uintcdw8KwOc"
      },
      "outputs": [],
      "source": [
        "# CONTROL #####################################################################\n",
        "\n",
        "def learning_rate_hokusai(epoch: int, lr_min: float, lr_max: float, lr_exp: float, rampup: int, sustain: int) -> float:\n",
        "    __lr = lr_min\n",
        "    if epoch < rampup:\n",
        "        __lr = lr_min + (epoch * (lr_max - lr_min) / rampup)\n",
        "    elif epoch < rampup + sustain:\n",
        "        __lr = lr_max\n",
        "    else:\n",
        "        __lr = lr_min + (lr_max - lr_min) * lr_exp ** (epoch - rampup - sustain)\n",
        "    return __lr"
      ]
    },
    {
      "cell_type": "code",
      "execution_count": 15,
      "metadata": {
        "id": "9vnCKf88Na2E"
      },
      "outputs": [],
      "source": [
        "# PREPROCESS ##################################################################\n",
        "\n",
        "def shape(layer_count: int, group_size: int, flatten: bool=False) -> list:\n",
        "    return [-1] + (1 - int(flatten)) * layer_count * [group_size]\n",
        "\n",
        "def _tokenize_scalar(text: str, layer_count: int=1, group_size: int=4, flatten: bool=False) -> tf.Tensor:\n",
        "    __mod = group_size ** layer_count\n",
        "    __bytes = list(text.encode('utf-32-be'))\n",
        "    __shape = shape(layer_count=layer_count, group_size=group_size, flatten=flatten)\n",
        "    __padding = (-len(__bytes) % __mod) * [0]\n",
        "    __tensor = tf.convert_to_tensor(value=__bytes + __padding, dtype=tf.dtypes.int32) # uint8 is not allowed\n",
        "    return tf.reshape(tensor=__tensor, shape=__shape)\n",
        "\n",
        "def tokenize(data: tf.Tensor, layer_count: int=1, group_size: int=4, sample_size: int=64, flatten: bool=False) -> tf.Tensor:\n",
        "    # make sure each sample has a length multiple of G ** L = T, the token dim\n",
        "    __mod = group_size ** layer_count\n",
        "    __dim = math.ceil(4 * sample_size / __mod) * __mod # factor 4 because of the UTF-32 encoding\n",
        "    # output shape\n",
        "    __shape = shape(layer_count=layer_count, group_size=group_size, flatten=flatten)\n",
        "    # Decode bytes from UTF-8\n",
        "    __bytes = tf.strings.unicode_transcode(input=data, input_encoding='UTF-8', output_encoding='UTF-32-BE') # (B,)\n",
        "    # Decode byte strings to arrays of integers\n",
        "    __ints = tf.io.decode_raw(__bytes, out_type=tf.uint8, fixed_length=__dim) # (B, 4 * S)\n",
        "    # group the characters into tokens\n",
        "    return tf.reshape(tensor=__ints, shape=__shape) # for example (-1, G, G, G) the first dimension is not B\n",
        "\n",
        "def preprocess(dataset: tf.data.Dataset, key: str='context', layer_count: int=1, group_size: int=4, sample_size: int=64, flatten: bool=False) -> tf.data.Dataset:\n",
        "    # from UTF-8 bytes scalar to UTF-32-BE int tensor\n",
        "    __dataset = dataset.map(lambda x: tokenize(data=x[key], layer_count=layer_count, group_size=group_size, sample_size=sample_size, flatten=flatten))\n",
        "    # one-hot encoding of UTF-32 bytes\n",
        "    __dataset = __dataset.map(lambda x: tf.one_hot(indices=x, depth=256, axis=-1))\n",
        "    # produce (input, target) tuples for supervised training, instead of a single tensor X\n",
        "    return __dataset.map(lambda x: (x,x))"
      ]
    },
    {
      "cell_type": "code",
      "source": [
        "DATA = {__l: preprocess(dataset=__d, key='context', layer_count=N_DEPTH, group_size=N_TOKEN_DIM, sample_size=N_SAMPLE, flatten=True) for __l, __d in DATA.items()}"
      ],
      "metadata": {
        "id": "Gp2WitYVhs8I"
      },
      "execution_count": 16,
      "outputs": []
    },
    {
      "cell_type": "code",
      "execution_count": 17,
      "metadata": {
        "id": "9e3KMoxKn1Bd"
      },
      "outputs": [],
      "source": [
        "# SAVE ########################################################################\n",
        "\n",
        "# log path\n",
        "LOGPATH = os.path.join('.logs/', VERSION, datetime.datetime.now().strftime(\"%Y%m%d-%H%M%S\"))\n",
        "SUMMARY = tf.summary.create_file_writer(LOGPATH)"
      ]
    },
    {
      "cell_type": "code",
      "execution_count": 18,
      "metadata": {
        "colab": {
          "base_uri": "https://localhost:8080/"
        },
        "id": "beTpALmzFdu1",
        "outputId": "b2f6014d-a524-43b0-e1b9-21bcd8aaba90"
      },
      "outputs": [
        {
          "output_type": "stream",
          "name": "stdout",
          "text": [
            "\n",
            "Epoch 1: LearningRateScheduler setting learning rate to 0.0001.\n",
            "Epoch 1/16\n",
            "213/213 - 22s - loss: 2.2069 - accuracy: 0.6754 - val_loss: 3.6474 - val_accuracy: 0.5975 - lr: 1.0000e-04 - 22s/epoch - 105ms/step\n",
            "\n",
            "Epoch 2: LearningRateScheduler setting learning rate to 0.00021250000000000002.\n",
            "Epoch 2/16\n",
            "213/213 - 16s - loss: 1.2839 - accuracy: 0.7232 - lr: 2.1250e-04 - 16s/epoch - 73ms/step\n",
            "\n",
            "Epoch 3: LearningRateScheduler setting learning rate to 0.000325.\n",
            "Epoch 3/16\n",
            "213/213 - 15s - loss: 1.2072 - accuracy: 0.7299 - lr: 3.2500e-04 - 15s/epoch - 69ms/step\n",
            "\n",
            "Epoch 4: LearningRateScheduler setting learning rate to 0.0004375.\n",
            "Epoch 4/16\n",
            "213/213 - 15s - loss: 0.8451 - accuracy: 0.8178 - lr: 4.3750e-04 - 15s/epoch - 69ms/step\n",
            "\n",
            "Epoch 5: LearningRateScheduler setting learning rate to 0.00055.\n",
            "Epoch 5/16\n",
            "213/213 - 15s - loss: 0.5487 - accuracy: 0.8809 - lr: 5.5000e-04 - 15s/epoch - 69ms/step\n",
            "\n",
            "Epoch 6: LearningRateScheduler setting learning rate to 0.0006625.\n",
            "Epoch 6/16\n",
            "213/213 - 15s - loss: 0.4020 - accuracy: 0.9121 - lr: 6.6250e-04 - 15s/epoch - 72ms/step\n",
            "\n",
            "Epoch 7: LearningRateScheduler setting learning rate to 0.0007750000000000001.\n",
            "Epoch 7/16\n",
            "213/213 - 16s - loss: 0.3468 - accuracy: 0.9234 - lr: 7.7500e-04 - 16s/epoch - 75ms/step\n",
            "\n",
            "Epoch 8: LearningRateScheduler setting learning rate to 0.0008875.\n",
            "Epoch 8/16\n",
            "213/213 - 15s - loss: 0.2808 - accuracy: 0.9353 - lr: 8.8750e-04 - 15s/epoch - 70ms/step\n",
            "\n",
            "Epoch 9: LearningRateScheduler setting learning rate to 0.001.\n",
            "Epoch 9/16\n",
            "213/213 - 16s - loss: 0.2105 - accuracy: 0.9497 - lr: 0.0010 - 16s/epoch - 74ms/step\n",
            "\n",
            "Epoch 10: LearningRateScheduler setting learning rate to 0.0008200000000000001.\n",
            "Epoch 10/16\n",
            "213/213 - 15s - loss: 0.2093 - accuracy: 0.9501 - lr: 8.2000e-04 - 15s/epoch - 69ms/step\n",
            "\n",
            "Epoch 11: LearningRateScheduler setting learning rate to 0.0006760000000000002.\n",
            "Epoch 11/16\n",
            "213/213 - 15s - loss: 0.1285 - accuracy: 0.9662 - lr: 6.7600e-04 - 15s/epoch - 69ms/step\n",
            "\n",
            "Epoch 12: LearningRateScheduler setting learning rate to 0.0005608000000000001.\n",
            "Epoch 12/16\n",
            "213/213 - 15s - loss: 0.0876 - accuracy: 0.9762 - lr: 5.6080e-04 - 15s/epoch - 69ms/step\n",
            "\n",
            "Epoch 13: LearningRateScheduler setting learning rate to 0.00046864000000000004.\n",
            "Epoch 13/16\n",
            "213/213 - 15s - loss: 0.0591 - accuracy: 0.9839 - lr: 4.6864e-04 - 15s/epoch - 70ms/step\n",
            "\n",
            "Epoch 14: LearningRateScheduler setting learning rate to 0.0003949120000000001.\n",
            "Epoch 14/16\n",
            "213/213 - 16s - loss: 0.0415 - accuracy: 0.9888 - lr: 3.9491e-04 - 16s/epoch - 74ms/step\n",
            "\n",
            "Epoch 15: LearningRateScheduler setting learning rate to 0.0003359296000000001.\n",
            "Epoch 15/16\n",
            "213/213 - 15s - loss: 0.0290 - accuracy: 0.9926 - lr: 3.3593e-04 - 15s/epoch - 69ms/step\n",
            "\n",
            "Epoch 16: LearningRateScheduler setting learning rate to 0.00028874368000000004.\n",
            "Epoch 16/16\n",
            "213/213 - 18s - loss: 0.0209 - accuracy: 0.9950 - val_loss: 0.0753 - val_accuracy: 0.9870 - lr: 2.8874e-04 - 18s/epoch - 82ms/step\n"
          ]
        }
      ],
      "source": [
        "# TRAIN #######################################################################\n",
        "\n",
        "# called during training\n",
        "tb_callback = tf.keras.callbacks.TensorBoard(log_dir=LOGPATH)\n",
        "lr_callback = tf.keras.callbacks.LearningRateScheduler(functools.partial(learning_rate_hokusai, lr_min=R_MIN, lr_max=R_MAX, lr_exp=R_EXP, rampup=N_EPOCHS_RAMPUP, sustain=N_EPOCHS_SUSTAIN), verbose=True)\n",
        "\n",
        "TRAINING_HISTORY = MODEL.fit(\n",
        "    x=DATA['en'].concatenate(DATA['zh']).concatenate(DATA['hi']).concatenate(DATA['es']),\n",
        "    batch_size=N_BATCH,\n",
        "    epochs=N_EPOCHS,\n",
        "    validation_split=None,\n",
        "    validation_data=DATA['ar'], # full of glyphs\n",
        "    validation_freq=[1, N_EPOCHS],\n",
        "    verbose=2,\n",
        "    callbacks=[lr_callback, tb_callback])"
      ]
    },
    {
      "cell_type": "code",
      "execution_count": 19,
      "metadata": {
        "colab": {
          "base_uri": "https://localhost:8080/"
        },
        "id": "EuRwWdjpPQBM",
        "outputId": "99432680-145b-4c77-ec3f-43b4956e8586"
      },
      "outputs": [
        {
          "output_type": "stream",
          "name": "stdout",
          "text": [
            "Model: \"auto_encoder\"\n",
            "_________________________________________________________________\n",
            " Layer (type)                Output Shape              Param #   \n",
            "=================================================================\n",
            " encoder (Encoder)           multiple                  592384    \n",
            "                                                                 \n",
            " decoder (Decoder)           multiple                  592128    \n",
            "                                                                 \n",
            "=================================================================\n",
            "Total params: 1184512 (4.52 MB)\n",
            "Trainable params: 1184512 (4.52 MB)\n",
            "Non-trainable params: 0 (0.00 Byte)\n",
            "_________________________________________________________________\n"
          ]
        }
      ],
      "source": [
        "MODEL.summary()"
      ]
    },
    {
      "cell_type": "markdown",
      "metadata": {
        "id": "NMqMBhAidTZ9"
      },
      "source": [
        "## Dataviz"
      ]
    },
    {
      "cell_type": "code",
      "source": [
        "# GENERIC #####################################################################\n",
        "\n",
        "def label(c: str) -> str:\n",
        "    return '#{}'.format(c.encode('utf-32-be').hex())\n",
        "\n",
        "def chunk(seq: list, size: int, repeats: bool=True) -> list:\n",
        "    __chunks = (seq[__i:__i+size] for __i in range(0, len(seq), size))\n",
        "    return list(__chunks if repeats else set(__chunks))"
      ],
      "metadata": {
        "id": "sEsZzv5jr1RO"
      },
      "execution_count": 20,
      "outputs": []
    },
    {
      "cell_type": "code",
      "execution_count": 21,
      "metadata": {
        "id": "16a7CcvCF-xG"
      },
      "outputs": [],
      "source": [
        "# POSTPROCESS #################################################################\n",
        "\n",
        "def interpret(output: tf.Tensor) -> tf.Tensor:\n",
        "    return tf.argmax(input=output, axis=-1, output_type=tf.dtypes.int32) # uint8 is not allowed\n",
        "\n",
        "def detokenize(tokens: tf.Tensor) -> str:\n",
        "    __b = tf.reshape(tensor=tokens, shape=(-1,)).numpy().tolist()\n",
        "    return bytes(__b).decode(encoding='utf-32-be', errors='replace')\n",
        "\n",
        "def postprocess(output: tf.Tensor) -> tf.Tensor:\n",
        "    # from one-hot to indices\n",
        "    __output = interpret(output=output)\n",
        "    # flatten\n",
        "    return detokenize(tokens=__output)"
      ]
    },
    {
      "cell_type": "code",
      "execution_count": 22,
      "metadata": {
        "id": "zaBcE9IpoyWJ"
      },
      "outputs": [],
      "source": [
        "# SAVE ########################################################################\n",
        "\n",
        "def write(data: any, path: str, tsv: bool=True) -> None:\n",
        "    with open(path, 'w') as __f:\n",
        "      for __row in data:\n",
        "        __line = '\\t'.join(str(__v) for __v in __row) if tsv else str(__row)\n",
        "        __f.write(__line + '\\n')"
      ]
    },
    {
      "cell_type": "code",
      "execution_count": 23,
      "metadata": {
        "id": "00maJbmdeeBi"
      },
      "outputs": [],
      "source": [
        "# SAMPLES #####################################################################\n",
        "\n",
        "SAMPLES = {}\n",
        "TOKENS = {1: {}, 4: {}, 16: {}}\n",
        "EMBEDDINGS = {1: {}, 4: {}, 16: {}}\n",
        "\n",
        "for __l in DATA:\n",
        "    # compute predictions\n",
        "    __i = iter(DATA[__l]) # iterate over batches of samples\n",
        "    __x = next(__i)[0] # take input only\n",
        "    __o = MODEL(__x)\n",
        "    # sample predictions (inputs, outputs)\n",
        "    SAMPLES[__l] = (__x, __o)\n",
        "    # unique 1-tokens (characters)\n",
        "    TOKENS[1][__l] = chunk(seq=postprocess(__x), size=1, repeats=False)\n",
        "    # unique 4-tokens\n",
        "    TOKENS[4][__l] = chunk(seq=postprocess(__x), size=4, repeats=False)\n",
        "\n",
        "TOKENS[1]['all'] = list(set(__t for _, __s in TOKENS[1].items() for __t in __s))\n",
        "TOKENS[4]['all'] = list(set(__t for _, __s in TOKENS[4].items() for __t in __s))"
      ]
    },
    {
      "cell_type": "code",
      "source": [
        "# EMBEDDINGS ##################################################################\n",
        "\n",
        "for __l, __s in TOKENS[1].items():\n",
        "    # re-encode without token repeats\n",
        "    __token_x = tf.one_hot(indices=_tokenize_scalar(text=''.join(__s), layer_count=N_DEPTH, group_size=4, flatten=True), depth=256, axis=-1)\n",
        "    # embed\n",
        "    EMBEDDINGS[1][__l] = MODEL._encoder._encoder.layers[1](MODEL._encoder._encoder.layers[0](__token_x))[:len(__s)]\n",
        "\n",
        "for __l, __s in TOKENS[4].items():\n",
        "    # re-encode without token repeats\n",
        "    __token_x = tf.one_hot(indices=_tokenize_scalar(text=''.join(__s), layer_count=N_DEPTH, group_size=4, flatten=True), depth=256, axis=-1)\n",
        "    # embed\n",
        "    EMBEDDINGS[4][__l] = MODEL._encoder(__token_x)[:len(__s)]"
      ],
      "metadata": {
        "id": "MXwu28nwRNV6"
      },
      "execution_count": 24,
      "outputs": []
    },
    {
      "cell_type": "code",
      "source": [
        "# SAVE ########################################################################\n",
        "\n",
        "write(data=[__c + label(__c) for __c in TOKENS[1]['all']], path='./metadata.1.tsv', tsv=False)\n",
        "write(data=EMBEDDINGS[1]['all'].numpy(), path='./embeddings.1.tsv', tsv=True)\n",
        "\n",
        "write(data=[__c + label(__c) for __c in TOKENS[4]['all']], path='./metadata.4.tsv', tsv=False)\n",
        "write(data=EMBEDDINGS[4]['all'].numpy(), path='./embeddings.4.tsv', tsv=True)"
      ],
      "metadata": {
        "id": "eEMCho-WRPti"
      },
      "execution_count": 35,
      "outputs": []
    },
    {
      "cell_type": "code",
      "source": [
        "MODEL.save('model.keras', save_format='keras')\n",
        "MODEL._encoder._encoder.save('encoder.h5', save_format='h5')\n",
        "MODEL._decoder._decoder.save('decoder.h5', save_format='h5')"
      ],
      "metadata": {
        "colab": {
          "base_uri": "https://localhost:8080/"
        },
        "id": "Nc-31vjMLHWL",
        "outputId": "5584e8b7-1e6f-4f53-fe30-b97d9a780baa"
      },
      "execution_count": 26,
      "outputs": [
        {
          "output_type": "stream",
          "name": "stderr",
          "text": [
            "/usr/local/lib/python3.10/dist-packages/keras/src/engine/training.py:3103: UserWarning: You are saving your model as an HDF5 file via `model.save()`. This file format is considered legacy. We recommend using instead the native Keras format, e.g. `model.save('my_model.keras')`.\n",
            "  saving_api.save_model(\n",
            "WARNING:tensorflow:Compiled the loaded model, but the compiled metrics have yet to be built. `model.compile_metrics` will be empty until you train or evaluate the model.\n",
            "WARNING:tensorflow:Compiled the loaded model, but the compiled metrics have yet to be built. `model.compile_metrics` will be empty until you train or evaluate the model.\n"
          ]
        }
      ]
    },
    {
      "cell_type": "code",
      "source": [
        "# TEST ########################################################################\n",
        "\n",
        "__sample = \"\"\"class Encoder(tf.keras.models.Model):\\n    def __init__(self, depth: int, token_dim: int, encoding_dim: int, embedding_dim: int, latent_dim: int, batch_dim: int=None, attention: bool=False, **kwargs) -> None:\\n        super(Encoder, self).__init__(**kwargs)\\n        self._encoder = tf.keras.Sequential([\\n            tf.keras.Input(shape=(encoding_dim,), batch_size=batch_dim, name='input'), # (B * G ^ D, U)\\n            tf.keras.layers.Dense(units=embedding_dim, activation=None, use_bias=False, kernel_initializer='glorot_uniform', bias_initializer=None, name='embed-1'),] # (B * G ^ D, U) => (B * G ^ D, E)\\n            + [_mmtl.TokenizeBlock(left_axis=-2, right_axis=-1, token_dim=token_dim, latent_dim=latent_dim, attention=attention, name='tokenize' + (__i + 1) * '-4') for __i in range(depth)]) # (B * G ^ i, E) => (B * G ^ (i-1), E)\\n\\n    def call(self, x: tf.Tensor) -> tf.Tensor:\\n        return self._encoder(x)\\n\"\"\"\n",
        "__x = tf.one_hot(indices=_tokenize_scalar(text=__sample, layer_count=N_DEPTH, group_size=4, flatten=True), depth=256, axis=-1)\n",
        "__e = MODEL._encoder(__x)\n",
        "__p = MODEL(__x)\n",
        "__y = postprocess(__p)\n",
        "\n",
        "print(__sample)\n",
        "print(__y)\n",
        "print(sum(__l == __r for __l, __r in zip(__sample, __y)) / len(__sample))"
      ],
      "metadata": {
        "id": "67R4pg42c-jh",
        "colab": {
          "base_uri": "https://localhost:8080/"
        },
        "outputId": "9178d84b-7b20-4239-a02a-07b12d148bdd"
      },
      "execution_count": 36,
      "outputs": [
        {
          "output_type": "stream",
          "name": "stdout",
          "text": [
            "class Encoder(tf.keras.models.Model):\n",
            "    def __init__(self, depth: int, token_dim: int, encoding_dim: int, embedding_dim: int, latent_dim: int, batch_dim: int=None, attention: bool=False, **kwargs) -> None:\n",
            "        super(Encoder, self).__init__(**kwargs)\n",
            "        self._encoder = tf.keras.Sequential([\n",
            "            tf.keras.Input(shape=(encoding_dim,), batch_size=batch_dim, name='input'), # (B * G ^ D, U)\n",
            "            tf.keras.layers.Dense(units=embedding_dim, activation=None, use_bias=False, kernel_initializer='glorot_uniform', bias_initializer=None, name='embed-1'),] # (B * G ^ D, U) => (B * G ^ D, E)\n",
            "            + [_mmtl.TokenizeBlock(left_axis=-2, right_axis=-1, token_dim=token_dim, latent_dim=latent_dim, attention=attention, name='tokenize' + (__i + 1) * '-4') for __i in range(depth)]) # (B * G ^ i, E) => (B * G ^ (i-1), E)\n",
            "\n",
            "    def call(self, x: tf.Tensor) -> tf.Tensor:\n",
            "        return self._encoder(x)\n",
            "\n",
            "class Encoder(tf.keras.models.Model):C    def AAinitAA(self, depth: int, tokenbdim: int, encodingAdim: int, embeddingAdim: int, latentbdim: int, batchAdim: int=None, attention: bool=False, **kwargs) -> None:C        super(Encoder, self).AbinitbA(**kwargs)C        self.Aencoder = tf.keras.Sequential([C            tf.keras.Input(shape=(encodingAdim,), batchAsize=batchAdim, name='input'), # (B * G R D, U)C            tf.keras.layers.Dense(units=embeddingAdim, activation=None, useAbias=False, kernelAinitializer='glorotAuniform', biasAinitializer=None, name='embed-1'),] # (B * G R D, U) => (B * G R D, E)C            + [Ammtl.TokenizeBlock(leftbaxis=-2, rightbaxis=-1, tokenAdim=tokenbdim, latentbdim=latentAdim, attention=attention, name='tokenize' + (AAi + 1) * '-4') for AAi in range(depth)]) # (B * G R i, E) => (B * G R (i-1), E)CC    def call(self, x: tf.Tensor) -> tf.Tensor:C        return self.Aencoder(x)C\u0000\u0000\u0000\n",
            "0.9465648854961832\n"
          ]
        }
      ]
    },
    {
      "cell_type": "code",
      "source": [
        "print(postprocess(SAMPLES['es'][0]))\n",
        "print(postprocess(SAMPLES['es'][1]))"
      ],
      "metadata": {
        "colab": {
          "base_uri": "https://localhost:8080/"
        },
        "id": "wCdpPd21OCoB",
        "outputId": "7d25d411-2cbd-481f-f66c-b57d03326234"
      },
      "execution_count": 33,
      "outputs": [
        {
          "output_type": "stream",
          "name": "stdout",
          "text": [
            "¿Es la biología de la conservación una ciencia objetiva si los biólogos abogan por un inherente valor en la naturaleza? ¿Los conDurante el día, la zona se llena de comerciantes, compradores y numerosos turistas. A esto se suman diferentes edificios gubernaLas Fuerzas Armadas de Turquía (FAT) (en turco: Türk Silahlı Kuvvetleri o TSK), consisten en el Ejército, la Armada (inclusión dBajo la presión de la discográfica, la banda lanzó su decimoséptimo álbum de estudio, Cross Purposes, el 8 de febrero de 1994, uAccesos y otros costes 16.5 millones de dólares.[18]​El coste original estimado en 1957 era de 3,500,000 de £ (7 millones de dólTodos los isótopos del tecnecio debe ser manejados con cuidado. El más común de ellos, el 99Tc, es un débil emisor de partículasMientras tocaban en Inglaterra en 1969, la banda descubrió que los estaban confundiendo con otra banda llamada Earth, y decidierEl Convenio de Viena para la protección de la capa de ozono es un acuerdo medioambiental multilateral. Se firmó en la ConferenciTras independizarse de España en 1821, la zona pasó a formar parte de México. Bajo el dominio mexicano, el sistema misionero graLa primera computadora de negocios comerciales fue desarrollada en el Reino Unido en 1951, por la Compañía J. Lion.[3]​  Esta fuEl sitio se convirtió en un puesto de la Policía Montada del Noroeste (hoy la Real Policía Montada de Canadá).[18]​ El estableciLa principal condición que puso Goldberg, para permitirle a Fox grabar la cinta, se centró en la programación de los horarios deLos virus son una causa establecida de cáncer en los humanos y otras especies. Los cánceres virales son extremadamente raros y sSaturno es un planeta fácil de observar, pues es visible en el cielo la mayor parte del tiempo y sus anillos pueden observarse cEl eje de rotación de Urano está de lado con respecto al plano del sistema solar, con una inclinación del eje de 97,77°. Esto prEn el ámbito de las matemáticas se denomina serie divergente a una serie infinita que no es convergente, por lo tanto la secuencGracias a su alta proporción de tensión de ruptura por su densidad,[8]​ alta resistencia a la corrosión,[4]​ resistencia a la faFinalmente, la parte más a la izquierda del dominio suele expresar el nombre de la máquina (en inglés hostname). El resto del noBegum se convirtió en la primera directora del cine indio con su película de 1926 Bulbul-e-Paristan. Si bien actualmente no exisEntre las principales aportaciones de la Rus de Kiev está la introducción de la variante eslava del culto ortodoxo, profundizandMientras tanto, en 1837, el joven Nathaniel Hawthorne (1804-1864) compilaba algunas de sus historias bajo el título Twice-Told TEl río Tone (利根川, Tone-gawa?) es uno de los grandes ríos de Japón. Su cuenca de 16.840 km² es la más grande de Japón y por su loSegún el censo de 2010,[4]​ había 510 personas residiendo en la localidad. La densidad de población era de 614,46 hab./km². HabíLa Universidad Cornell fue fundada el 27 de abril de 1865 bajo un proyecto de ley del Senado por el cual el Estado de Nueva YorkLa carrera de Mayer se ha extendido hasta abarcar stand-up comedy, diseño gráfico y escribir; ha escrito columnas para algunas rLos primeros programas realizados para el formato CD-i se enfocaban al ámbito educacional y el de la música. Muy pocos videojuegLa torre está asentada sobre una base de hormigón de 15 metros de lado y tres metros de espesor, con una profundidad de cuatro mEl transporte ferroviario en Ucrania conecta las principales áreas urbanas, instalaciones portuarias y centros industriales con Esmeralda busca refugio en la corte de los milagros, guarida de todos los proscritos de París. Allí, Clopin preside una celebracGuillaume de Machaut distingue en el siglo XIV dos tipos de flauta: las traveseras y «en las que tocas recto cuando soplas». PerEl rey Mohamed VI tiene un hermano, el príncipe Moulay Rachid, y tres hermanas, las princesas Lalla Meryem, Lalla Asma y Lalla HEn la novela gráfica de 2011 Munkeeman por el director de Tere Bin Laden, Abhishek Sharma, la criatura es interpretada como supe1972: Emma (televisión), con Doran Godwin como Emma.\u0000\u0000\u0000\u0000\u0000\u0000\u0000\u0000\u0000\u0000\u0000\u0000\u0000\u0000\u0000\u0000\u0000\u0000\u0000\u0000\u0000\u0000\u0000\u0000\u0000\u0000\u0000\u0000\u0000\u0000\u0000\u0000\u0000\u0000\u0000\u0000\u0000\u0000\u0000\u0000\u0000\u0000\u0000\u0000\u0000\u0000\u0000\u0000\u0000\u0000\u0000\u0000\u0000\u0000\u0000\u0000\u0000\u0000\u0000\u0000\u0000\u0000\u0000\u0000\u0000\u0000\u0000\u0000\u0000\u0000\u0000\u0000\u0000\u0000\u0000\u0000El parque cuenta con alrededor de 1700 especies endémicas de árboles, plantas y líquenes, a las cuales hay que añadir 170 especiEl 1 de diciembre de 2011, se anunció que New Line Cinema estaba desarrollando una película de desastres sobre terremotos, \"San El estrecho de Mátochkin (en ruso: Maточкин Шар, Mátochkin Shar)? es un estrecho marino localizado entre las dos grandes islas dBélgica fue el primer país de Europa continental en el que se desarrolló la Revolución industrial, a comienzos del siglo XIX. LiUn desarrollo significativo en 1980 fue la aparición del movimiento de conservación urbana. Inicialmente una organización local Las células club eran anteriormente denominadas células de Clara, ya que fueron descritas por primera vez por Max Clara (1899-19Los psicólogos cuantitativos generalmente tienen un área de interés principal.[13]​ äreas notables de investigación en psicometrEl bowls sobre hierba se juega normalmente en una gran superficie rectangular sintética o de césped perfectamente nivelado y cuiKhushwant Singh (2 de febrero de 1915 - 20 de marzo de 2014) fue un novelista y periodista indio. Un novelista Indo-Anglian, mejLa economía está basada principalmente en la agricultura de subsistencia o a pequeña escala, que provee al 65 % de la población.Hasta 1773, la Compañía de las Indias Orientales actuaba como representante del rey en los territorios de las Indias. Sin embargRetirado a Hershey, Pensilvania, cerca de Harrisburg, Winters se convirtió en un ícono de la \"The Greatest Generation\" (La GenerMás de 1% del territorio de Polonia, 3.145 kilómetros cuadrados, está protegido dentro de 23 parques nacionales. Otros tres parqEn 1999, dos grupos independientes de astrónomos pertenecientes a la Universidad Estatal de San Francisco y al Harvard-SmithsoniEl aceite de palma se extrae de la porción pulposa de la fruta mediante varias operaciones. Se afloja la fruta de los racimos utEn la última acción de la cruzada, Godofredo encabezó un ejército portando la Vera Cruz en vanguardia contra un ejército fatimí Una misa fue oficiada cerca del roble donde los misioneros que habían acompañado a Sebastián Vizcaíno habían dado gracias al SeñUna ley de autorización fue aprobada por el Congreso en 1864. Fueron elegidos varios delegados para una convención constitucionaSituado entre los estrechos del Bósforo y los Dardanelos, separa Estambul en su lado asiático y lado europeo. La superficie de eXiao'erjing no tiene un solo nombre estándar. En Shanxi, Hebei, Henan, Shandong, el este de Shaanxi y Pekín, Tianjin y las proviLa Mezquita de Mihrimah es una mezquita otomana construida en el siglo XVI y ubicada en barrio de Edirnekapı, cerca de las MuralConoció a Joseph Oleskiw, un hombre que había estado propulsando la emigración de ucranianos a Canadá, el cual le solicitó acompEl tiempo es impulsado por la presión de aire, la temperatura y las diferencias de humedad entre un lugar y otro.  Estas diferenEn la otra versión, Nerites fue amado por Poseidón y este respondió a sus sentimientos. De su amor mutuo surgió Anteros (personiComenzó su carrera política en 1966 y estuvo influido por el marxismo-leninismo. Paso a ser miembro del Partido Comunista de NepEl Dominio de Pakistán era una federación de cinco provincias: Bengala Oriental (que más tarde se convirtió en Bangladés), PanyaComo empresa comercial, el primer objetivo de la Compañía de las Indias Orientales era maximizar sus beneficios. Para ello usabaIncluso antes de convertirse en obispo, y sobre todo después de su ordenación episcopal (27 de mayo de 1969), desempeñó un papelCuando el linfocito B ha sido activado comienza a dividirse y su descendencia segrega millones de copias del anticuerpo que recoHay muchas maneras de definir formalmente una integral, no todas equivalentes. Se establecen diferencias para poder abordar casoA mediados de enero de 2005 estallaron disturbios callejeros en la ciudad de Belmopán, capital de Belice. Los tumultos fueron prThe Irishman es una película biográfica de gángsters estadounidense a estrenarse en 2019 dirigida por Martin Scorsese y escrita La expedición noruega del buque Fram, dirigida por Roald Amundsen, se convirtió en la primera en llegar al polo sur geográfico eRajpath (hindi: राजपथ; que significa ‘Camino Real’) es el bulevar ceremonial de Nueva Delhi, India, que discurre desde RashtrapaEl término Antigua Grecia se refiere al período de la historia de Grecia que abarca desde la Edad oscura de Grecia, comenzando eSiendo un país desarrollado, en Suecia la atención sanitaria es universal y gratuita, es financiada casi en su mayoría con impueEl Condado de Baranya se encuentra en el sur del país, en la frontera con Croacia. El río Drava forma parte de su frontera sur, Para el 22 de diciembre la munición de artillería se restringió a 10 rondas por cañón al día. Las dos divisiones Panzer del XLVILa filmación terminó después de cien días de grabación, el 20 de abril de 1985, y a causa de ello Zemeckis y el equipo de producA finales del siglo XIX y comienzos del XX, la cultura de empresa de Nueva York la convirtió en un centro principal para la consAngel, totalmente desanimado, ha abandonado Sandbourne; Tess se apresura detrás de él y le dice que ha matado a Alec, diciendo qNeha Sharma (Bhagalpur, Bihar, 21 de noviembre de 1987) es una actriz, cantante y modelo india.[2]​ Inició su carrera en la actuLa hostilidad de la Iglesia católica y del clero contra el nuevo estado constituían otros elementos adicionales de fragilidad deAerosmith es una de las bandas con mayor número de ventas de todos los tiempos,[13]​ han vendido más de 200 millones de álbumes Bullet For My Valentine (abreviado BFMV) es una banda  galesa de metalcore procedente de Bridgend, Gales. El grupo se constituyóFueron considerados una amenaza para el ganado, y cazados por sus pieles hasta llevarlos al borde de la extinción. En 1941 pasarBinarias separadas son un tipo de estrellas binarias donde sus componentes se encuentran en el lóbulo de Roche, el área donde laLos principales fabricantes (Olympus y Panasonic) han ido apartando silenciosamente el sistema desde 2009, en favor del Micro CuEstos peinados son decorados con elaborados peines y horquillas. En el siglo XVII y después de la Restauración Meiji, los peinesDupin es generalmente reconocido como el primer detective en la ficción. El personaje sirvió como prototipo para muchos otros quDespués de que los primeros esfuerzos de modernización de China fallaran al parecer seguida de su derrota en la Primera Guerra SLa cultura de las Maldivas proviene de diversas fuentes, la más importante de todas, es su proximidad a las costas de Sri Lanka La escritura de Hardy a menudo ilustra el \"dolor del modernismo\", y este tema es notable en Tess, que, como un crítico ha señalaLa arquitectura del Wall Street está en general arraigada en la edad dorada, aunque también hay algunas influencias del arte decDespués de que Shackleton se marchara con el James Caird, Frank Wild tomó el mando del grupo de la isla Elefante, parte del cualLa división actual de la India británica entre los dos nuevos dominios se llevó a cabo de acuerdo a lo que se le conoce como el La mañana del viernes 6 de septiembre de 1901, McKinley vestido formalmente, salió de la casa de Milburn para dar un paseo por eEn respuesta a estas marcas, los enrutadores y switches usan varias estrategias de queueing para adaptar el rendimiento a los reSe lanzó un álbum de Greatest Hits en el 1992, alcanzando el número uno en el Reino Unido y el número tres en Australia, y los sLa isla Elefante era un lugar remoto, deshabitado y raramente visitado por balleneros u otros barcos. Si la expedición quería reEl Leopard 2 básico, a veces denominado A0,[80]​ fue el primero producido en serie. Los vehículos fueron fabricados desde octubrEl grupo lanzó su álbum navideño, PTXmas, el 13 de noviembre de 2012, logrando la séptima ubicación en el Billboard 200.[31]​ ElEl polo sur magnético se define como el lugar donde el campo magnético del planeta es perpendicular a la superficie. Es un sitioEn 1635, en un esfuerzo consciente para emular a sus predecesores guerreros, el sultán Murad IV tomó el liderazgo del ejército. El cuerpo legislativo está formado por el Gran Consejo General, el parlamento y una Cámara. Los miembros del Parlamento son elegLa geometría diferencial se convirtió en objeto de estudio como tal cuando Einstein la utiliza en la relatividad general. Áreas Su abuelo paterno, Józef Skłodowski, había sido un respetado maestro en Lublin, donde enseñó al joven Bolesław Prus,[19]​ quien Desde la misión del Apolo 17 en 1972, ha sido visitada únicamente por sondas espaciales no tripuladas, en particular por el astrBhaichung Bhutia (nacido el 15 diciembre de 1976) es un futbolista indio retirado de ascendencia Sikkimese-Bhutia que jugó como La película, que contó con un presupuesto de 170 millones de dólares, fue estrenada por Walt Disney Pictures el 27 de mayo de 20A veces ISO también publica \"erratas técnicas\". Ésta son enmiendas hechas a estándares ya existentes debido a fallos técnicos meLa prostitución en la República Popular China es un fenómeno que ha sufrido cambios importantes tanto en su dimensión como en suLa República Democrática de Santo Tomé y Príncipe (en portugués: República Democrática de São Tomé e Príncipe, pronunciación: /sEn el videoclip que acompaña la canción, Madonna representa a dos personajes diametralmente opuestos: una niña santurrona y una El final le llegó a Jovino cuando los visigodos comandados por Ataúlfo abandonaron Italia (por consejo de Prisco Atalo), aparentEl Reino Unido no tiene un documento que sirva como constitución totalmente definida,[68]​ algo que solo ocurre en otros dos paíEl movimiento autonomista había sido liderado por diversas figuras populares armenias, al igual que por miembros de la \"intelligHitmixes —en español: Mezclas exitosas— es el segundo extended play (EP) de la cantante estadounidense Lady Gaga. Fue lanzado únA partir de 1991 realiza elaboraciones sistémicas de construcción experimental y producción de equipo radio-electrónico. La prodTradicionalmente se consideraba que la época de la Antigua Grecia finalizaba con la muerte de Alejandro Magno en el 323 a. C., dLas aves serpiente viven a lo largo del ecuador, en zonas tropicales y subtropicales. Habitan tanto en aguas claras como estancaLich (también llamado PSR B1257+12) es un púlsar que se localiza en la constelación de Virgo. Se encuentra aproximadamente a 980La formación geológica del área es de rocas de granito y remanentes de rocas más antiguas. Hace aproximadamente 10 millones de aMientras que los virus vegetales los y bacteriófagos pueden cultivarse in vitro de manera relativamente simple, los virus animalPertenece a la noble familia de Maizières-lès-Metz, la cual como los Huguenots, tuvo que abandonar Francia para pedir asilo en PFord legó gran parte de su inmensa fortuna a la Fundación Ford, pero también se aseguró de que su familia controlase la compañíaMokshagundam Visvesvaraya, KCIE (popularmente conocido como Sr MV; 15 de septiembre 1861-12 abril de 1962) fue un ingeniero IndiEl lado externo de la membrana basal está revestido por pliegues llamados podocitos, los que a su vez están revestidos por pliegEn el momento de la guerra civil americana como el tráfico telegráfico aumentó considerablemente, la tendencia de la célula GrovEl monte Iō y el Onsen Kawayu ofrecen fuentes termales naturales y fumarolas de azufre. Alrededor del Lago Kussharo,[2]​ un lagoA pesar de que el gobierno se trasladó a Ankara y que Estambul creció rápidamente hasta convertirse en la enorme ciudad actual, Poblada por tribus micronesias y polinesias, Nauru fue reclamada y anexionada como una colonia más por el Imperio alemán a finalKang busca utilizar como rehén a Asher para obligar a los funcionarios estadounidenses a retirar la Séptima Flota y las fuerzas Después de las elecciones generales del Reino Unido de 1841, Melbourne fue sustituido como primer ministro por sir Robert Peel, Es Profesor de Física Eberly y director del Instituto para la Física Gravitacional y Geometría de la Universidad Estatal de Pens\n",
            "áEs la biología de la conservación una ciencia objetiva si los biólogos abogan por un inherente valor en la naturaleza? áLos conDurante el día, la zona se llena de comerciantes, compradores y numerosos turistas. A esto se suman diferentes edificios gubernaLas Fuerzas Armadas de Turquía (FAT) (en turco: Türk Silahlı Kuvvetleri o TSK), consisten en el Ejército, la Armada (inclusión dBajo la presión de la discográfica, la banda lanzó su decimoséptimo álbum de estudio, Cross Purposes, el 8 de febrero de 1994, uAccesos y otros costes 16.5 millones de dólares.[18]​El coste original estimado en 1957 era de 3,500,000 de % (7 millones de dólTodos los isótopos del tecnecio debe ser manejados con cuidado. El más común de ellos, el 99Tc, es un débil emisor de partículasMientras tocaban en Inglaterra en 1969, la banda descubrió que los estaban confundiendo con otra banda llamada Earth, y decidierEl Convenio de Viena para la protección de la capa de ozono es un acuerdo medioambiental multilateral. Se firmó en la ConferenciTras independizarse de España en 1821, la zona pasó a formar parte de México. Bajo el dominio mexicano, el sistema misionero graLa primera computadora de negocios comerciales fue desarrollada en el Reino Unido en 1951, por la Compañía J. Lion.[3]​  Esta fuEl sitio se convirtió en un puesto de la Policía Montada del Noroeste (hoy la Real Policía Montada de Canadá).[18]​ El estableciLa principal condición que puso Goldberg, para permitirle a Fox grabar la cinta, se centró en la programación de los horarios deLos virus son una causa establecida de cáncer en los humanos y otras especies. Los cánceres virales son extremadamente raros y sSaturno es un planeta fácil de observar, pues es visible en el cielo la mayor parte del tiempo y sus anillos pueden observarse cEl eje de rotación de Urano está de lado con respecto al plano del sistema solar, con una inclinación del eje de 97,77°. Esto prEn el ámbito de las matemáticas se denomina serie divergente a una serie infinita que no es convergente, por lo tanto la secuencGracias a su alta proporción de tensión de ruptura por su densidad,[8]​ alta resistencia a la corrosión,[4]​ resistencia a la faFinalmente, la parte más a la izquierda del dominio suele expresar el nombre de la máquina (en inglés hostname). El resto del noBegum se convirtió en la primera directora del cine indio con su película de 1926 Bulbul-e-Paristan. Si bien actualmente no exisEntre las principales aportaciones de la Rus de Kiev está la introducción de la variante eslava del culto ortodoxo, profundizandMientras tanto, en 1837, el joven Nathaniel Hawthorne (1804-1864) compilaba algunas de sus historias bajo el título Twice-Told TEl río Tone (利根川, Tone-gawa?) es uno de los grandes ríos de Japón. Su cuenca de 16.840 km² es la más grande de Japón y por su loSegún el censo de 2010,[4]​ había 510 personas residiendo en la localidad. La densidad de población era de 614,46 hab./km². HabíLa Universidad Cornell fue fundada el 27 de abril de 1865 bajo un proyecto de ley del Senado por el cual el Estado de Nueva YorkLa carrera de Mayer se ha extendido hasta abarcar stand-up comedy, diseño gráfico y escribir; ha escrito columnas para algunas rLos primeros programas realizados para el formato CD-i se enfocaban al ámbito educacional y el de la música. Muy pocos videojuegLa torre está asentada sobre una base de hormigón de 15 metros de lado y tres metros de espesor, con una profundidad de cuatro mEl transporte ferroviario en Ucrania conecta las principales áreas urbanas, instalaciones portuarias y centros industriales con Esmeralda busca refugio en la corte de los milagros, guarida de todos los proscritos de París. Allí, Clopin preside una celebracGuillaume de Machaut distingue en el siglo XIV dos tipos de flauta: las traveseras y «en las que tocas recto cuando soplas». PerEl rey Mohamed VI tiene un hermano, el príncipe Moulay Rachid, y tres hermanas, las princesas Lalla Meryem, Lalla Asma y Lalla HEn la novela gráfica de 2011 Munkeeman por el director de Tere Bin Laden, Abhishek Sharma, la criatura es interpretada como supe1972: Emma (televisión), con Doran Godwin como Emma.\u0000\u0000\u0000\u0000\u0000\u0000\u0000\u0000\u0000\u0000\u0000\u0000\u0000\u0000\u0000\u0000\u0000\u0000\u0000\u0000\u0000\u0000\u0000\u0000\u0000\u0000\u0000\u0000\u0000\u0000\u0000\u0000\u0000\u0000\u0000\u0000\u0000\u0000\u0000\u0000\u0000\u0000\u0000\u0000\u0000\u0000\u0000\u0000\u0000\u0000\u0000\u0000\u0000\u0000\u0000\u0000\u0000\u0000\u0000\u0000\u0000\u0000\u0000\u0000\u0000\u0000\u0000\u0000\u0000\u0000\u0000\u0000\u0000\u0000\u0000\u0000El parque cuenta con alrededor de 1700 especies endémicas de árboles, plantas y líquenes, a las cuales hay que añadir 170 especiEl 1 de diciembre de 2011, se anunció que New Line Cinema estaba desarrollando una película de desastres sobre terremotos, \"San El estrecho de Mátochkin (en ruso: Maточкин Шар, Mátochkin Shar)? es un estrecho marino localizado entre las dos grandes islas dBélgica fue el primer país de Europa continental en el que se desarrolló la Revolución industrial, a comienzos del siglo XIX. LiUn desarrollo significativo en 1980 fue la aparición del movimiento de conservación urbana. Inicialmente una organización local Las células club eran anteriormente denominadas células de Clara, ya que fueron descritas por primera vez por Max Clara (1899-19Los psicólogos cuantitativos generalmente tienen un área de interés principal.[13]​ «reas notables de investigación en psicometrEl bowls sobre hierba se juega normalmente en una gran superficie rectangular sintética o de césped perfectamente nivelado y cuiKhushwant Singh (2 de febrero de 1915 - 20 de marzo de 2014) fue un novelista y periodista indio. Un novelista Indo-Anglian, mejLa economía está basada principalmente en la agricultura de subsistencia o a pequeña escala, que provee al 65∯% de la población.Hasta 1773, la Compañía de las Indias Orientales actuaba como representante del rey en los territorios de las Indias. Sin embargRetirado a Hershey, Pensilvania, cerca de Harrisburg, Winters se convirtió en un ícono de la \"The Greatest Generation\" (La GenerMás de 1% del territorio de Polonia, 3.145 kilómetros cuadrados, está protegido dentro de 23 parques nacionales. Otros tres parqEn 1999, dos grupos independientes de astrónomos pertenecientes a la Universidad Estatal de San Francisco y al Harvard-SmithsoniEl aceite de palma se extrae de la porción pulposa de la fruta mediante varias operaciones. Se afloja la fruta de los racimos utEn la última acción de la cruzada, Godofredo encabezó un ejército portando la Vera Cruz en vanguardia contra un ejército fatimí Una misa fue oficiada cerca del roble donde los misioneros que habían acompañado a Sebastián Vizcaíno habían dado gracias al SeñUna ley de autorización fue aprobada por el Congreso en 1864. Fueron elegidos varios delegados para una convención constitucionaSituado entre los estrechos del Bósforo y los Dardanelos, separa Estambul en su lado asiático y lado europeo. La superficie de eXiao'erjing no tiene un solo nombre estándar. En Shanxi, Hebei, Henan, Shandong, el este de Shaanxi y Pekín, Tianjin y las proviLa Mezquita de Mihrimah es una mezquita otomana construida en el siglo XVI y ubicada en barrio de Edirnekapı, cerca de las MuralConoció a Joseph Oleskiw, un hombre que había estado propulsando la emigración de ucranianos a Canadá, el cual le solicitó acompEl tiempo es impulsado por la presión de aire, la temperatura y las diferencias de humedad entre un lugar y otro.  Estas diferenEn la otra versión, Nerites fue amado por Poseidón y este respondió a sus sentimientos. De su amor mutuo surgió Anteros (personiComenzó su carrera política en 1966 y estuvo influido por el marxismo-leninismo. Paso a ser miembro del Partido Comunista de NepEl Dominio de Pakistán era una federación de cinco provincias: Bengala Oriental (que más tarde se convirtió en Bangladés), PanyaComo empresa comercial, el primer objetivo de la Compañía de las Indias Orientales era maximizar sus beneficios. Para ello usabaIncluso antes de convertirse en obispo, y sobre todo después de su ordenación episcopal (27 de mayo de 1969), desempeñó un papelCuando el linfocito B ha sido activado comienza a dividirse y su descendencia segrega millones de copias del anticuerpo que recoHay muchas maneras de definir formalmente una integral, no todas equivalentes. Se establecen diferencias para poder abordar casoA mediados de enero de 2005 estallaron disturbios callejeros en la ciudad de Belmopán, capital de Belice. Los tumultos fueron prThe Irishman es una película biográfica de gángsters estadounidense a estrenarse en 2019 dirigida por Martin Scorsese y escrita La expedición noruega del buque Fram, dirigida por Roald Amundsen, se convirtió en la primera en llegar al polo sur geográfico eRajpath (hindi: राजपथ; que significa 膼Camino Real’) es el bulevar ceremonial de Nueva Delhi, India, que discurre desde RashtrapaEl término Antigua Grecia se refiere al período de la historia de Grecia que abarca desde la Edad oscura de Grecia, comenzando eSiendo un país desarrollado, en Suecia la atención sanitaria es universal y gratuita, es financiada casi en su mayoría con impueEl Condado de Baranya se encuentra en el sur del país, en la frontera con Croacia. El río Drava forma parte de su frontera sur, Para el 22 de diciembre la munición de artillería se restringió a 10 rondas por cañón al día. Las dos divisiones Panzer del XLVILa filmación terminó después de cien días de grabación, el 20 de abril de 1985, y a causa de ello Zemeckis y el equipo de producA finales del siglo XIX y comienzos del XX, la cultura de empresa de Nueva York la convirtió en un centro principal para la consAngel, totalmente desanimado, ha abandonado Sandbourne; Tess se apresura detrás de él y le dice que ha matado a Alec, diciendo qNeha Sharma (Bhagalpur, Bihar, 21 de noviembre de 1987) es una actriz, cantante y modelo india.[2]​ Inició su carrera en la actuLa hostilidad de la Iglesia católica y del clero contra el nuevo estado constituían otros elementos adicionales de fragilidad deAerosmith es una de las bandas con mayor número de ventas de todos los tiempos,[13]​ han vendido más de 200 millones de álbumes Bullet For My Valentine (abreviado BFMV) es una banda  galesa de metalcore procedente de Bridgend, Gales. El grupo se constituyóFueron considerados una amenaza para el ganado, y cazados por sus pieles hasta llevarlos al borde de la extinción. En 1941 pasarBinarias separadas son un tipo de estrellas binarias donde sus componentes se encuentran en el lóbulo de Roche, el área donde laLos principales fabricantes (Olympus y Panasonic) han ido apartando silenciosamente el sistema desde 2009, en favor del Micro CuEstos peinados son decorados con elaborados peines y horquillas. En el siglo XVII y después de la Restauración Meiji, los peinesDupin es generalmente reconocido como el primer detective en la ficción. El personaje sirvió como prototipo para muchos otros quDespués de que los primeros esfuerzos de modernización de China fallaran al parecer seguida de su derrota en la Primera Guerra SLa cultura de las Maldivas proviene de diversas fuentes, la más importante de todas, es su proximidad a las costas de Sri Lanka La escritura de Hardy a menudo ilustra el \"dolor del modernismo\", y este tema es notable en Tess, que, como un crítico ha señalaLa arquitectura del Wall Street está en general arraigada en la edad dorada, aunque también hay algunas influencias del arte decDespués de que Shackleton se marchara con el James Caird, Frank Wild tomó el mando del grupo de la isla Elefante, parte del cualLa división actual de la India británica entre los dos nuevos dominios se llevó a cabo de acuerdo a lo que se le conoce como el La mañana del viernes 6 de septiembre de 1901, McKinley vestido formalmente, salió de la casa de Milburn para dar un paseo por eEn respuesta a estas marcas, los enrutadores y switches usan varias estrategias de queueing para adaptar el rendimiento a los reSe lanzó un álbum de Greatest Hits en el 1992, alcanzando el número uno en el Reino Unido y el número tres en Australia, y los sLa isla Elefante era un lugar remoto, deshabitado y raramente visitado por balleneros u otros barcos. Si la expedición quería reEl Leopard 2 básico, a veces denominado A0,[80]​ fue el primero producido en serie. Los vehículos fueron fabricados desde octubrEl grupo lanzó su álbum navideño, PTXmas, el 13 de noviembre de 2012, logrando la séptima ubicación en el Billboard 200.[31]​ ElEl polo sur magnético se define como el lugar donde el campo magnético del planeta es perpendicular a la superficie. Es un sitioEn 1635, en un esfuerzo consciente para emular a sus predecesores guerreros, el sultán Murad IV tomó el liderazgo del ejército. El cuerpo legislativo está formado por el Gran Consejo General, el parlamento y una Cámara. Los miembros del Parlamento son elegLa geometría diferencial se convirtió en objeto de estudio como tal cuando Einstein la utiliza en la relatividad general. Áreas Su abuelo paterno, Józef SkǙodowski, había sido un respetado maestro en Lublin, donde enseñó al joven BolesǙaw Prus,[19]​ quien Desde la misión del Apolo 17 en 1972, ha sido visitada únicamente por sondas espaciales no tripuladas, en particular por el astrBhaichung Bhutia (nacido el 15 diciembre de 1976) es un futbolista indio retirado de ascendencia Sikkimese-Bhutia que jugó como La película, que contó con un presupuesto de 170 millones de dólares, fue estrenada por Walt Disney Pictures el 27 de mayo de 20A veces ISO también publica \"erratas técnicas\". Ésta son enmiendas hechas a estándares ya existentes debido a fallos técnicos meLa prostitución en la República Popular China es un fenómeno que ha sufrido cambios importantes tanto en su dimensión como en suLa República Democrática de Santo Tomé y Príncipe (en portugués: República Democrática de S[o Tomé e Príncipe, pronunciación: /sEn el videoclip que acompaña la canción, Madonna representa a dos personajes diametralmente opuestos: una niña santurrona y una El final le llegó a Jovino cuando los visigodos comandados por Ataúlfo abandonaron Italia (por consejo de Prisco Atalo), aparentEl Reino Unido no tiene un documento que sirva como constitución totalmente definida,[68]​ algo que solo ocurre en otros dos paíEl movimiento autonomista había sido liderado por diversas figuras populares armenias, al igual que por miembros de la \"intelligHitmixes —en español: Mezclas exitosas— es el segundo extended play (EP) de la cantante estadounidense Lady Gaga. Fue lanzado únA partir de 1991 realiza elaboraciones sistémicas de construcción experimental y producción de equipo radio-electrónico. La prodTradicionalmente se consideraba que la época de la Antigua Grecia finalizaba con la muerte de Alejandro Magno en el 323 a. C., dLas aves serpiente viven a lo largo del ecuador, en zonas tropicales y subtropicales. Habitan tanto en aguas claras como estancaLich (también llamado PSR B1257+12) es un púlsar que se localiza en la constelación de Virgo. Se encuentra aproximadamente a 980La formación geológica del área es de rocas de granito y remanentes de rocas más antiguas. Hace aproximadamente 10 millones de aMientras que los virus vegetales los y bacteriófagos pueden cultivarse in vitro de manera relativamente simple, los virus animalPertenece a la noble familia de Maizières-lès-Metz, la cual como los Huguenots, tuvo que abandonar Francia para pedir asilo en PFord legó gran parte de su inmensa fortuna a la Fundación Ford, pero también se aseguró de que su familia controlase la compañíaMokshagundam Visvesvaraya, KCIE (popularmente conocido como Sr MV; 15 de septiembre 1861-12 abril de 1962) fue un ingeniero IndiEl lado externo de la membrana basal está revestido por pliegues llamados podocitos, los que a su vez están revestidos por pliegEn el momento de la guerra civil americana como el tráfico telegráfico aumentó considerablemente, la tendencia de la célula GrovEl monte Iō y el Onsen Kawayu ofrecen fuentes termales naturales y fumarolas de azufre. Alrededor del Lago Kussharo,[2]​ un lagoA pesar de que el gobierno se trasladó a Ankara y que Estambul creció rápidamente hasta convertirse en la enorme ciudad actual, Poblada por tribus micronesias y polinesias, Nauru fue reclamada y anexionada como una colonia más por el Imperio alemán a finalKang busca utilizar como rehén a Asher para obligar a los funcionarios estadounidenses a retirar la Séptima Flota y las fuerzas Después de las elecciones generales del Reino Unido de 1841, Melbourne fue sustituido como primer ministro por sir Robert Peel, Es Profesor de Física Eberly y director del Instituto para la Física Gravitacional y Geometría de la Universidad Estatal de Pens\n"
          ]
        }
      ]
    },
    {
      "cell_type": "code",
      "source": [],
      "metadata": {
        "id": "9r4WM3TeYmhp"
      },
      "execution_count": null,
      "outputs": []
    }
  ],
  "metadata": {
    "accelerator": "GPU",
    "colab": {
      "gpuType": "T4",
      "provenance": []
    },
    "kernelspec": {
      "display_name": "Python 3",
      "name": "python3"
    }
  },
  "nbformat": 4,
  "nbformat_minor": 0
}
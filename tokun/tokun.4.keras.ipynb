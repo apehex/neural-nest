{
  "cells": [
    {
      "cell_type": "markdown",
      "metadata": {
        "id": "_pQCOmISAQBu"
      },
      "source": [
        "## Enabling and testing the TPU"
      ]
    },
    {
      "cell_type": "code",
      "execution_count": null,
      "metadata": {
        "colab": {
          "base_uri": "https://localhost:8080/"
        },
        "id": "FpvUOuC3j27n",
        "outputId": "1d749ba4-861f-4f5d-ecb1-cbf940fafcca"
      },
      "outputs": [
        {
          "output_type": "stream",
          "name": "stdout",
          "text": [
            "Tensorflow version 2.15.0\n"
          ]
        }
      ],
      "source": [
        "import datetime\n",
        "import functools\n",
        "import math\n",
        "import os\n",
        "\n",
        "import tensorflow as tf\n",
        "import tensorflow_datasets as tfds\n",
        "\n",
        "# %load_ext tensorboard\n",
        "\n",
        "print(\"Tensorflow version \" + tf.__version__)"
      ]
    },
    {
      "cell_type": "code",
      "execution_count": null,
      "metadata": {
        "colab": {
          "base_uri": "https://localhost:8080/"
        },
        "id": "vFIMfPmgQa0h",
        "outputId": "031e8a23-27ca-4fe4-c370-c880baef47e4"
      },
      "outputs": [
        {
          "output_type": "stream",
          "name": "stdout",
          "text": [
            "[LogicalDevice(name='/device:GPU:0', device_type='GPU')]\n"
          ]
        }
      ],
      "source": [
        "tf.debugging.set_log_device_placement(False)\n",
        "\n",
        "GPU = tf.config.list_logical_devices('GPU')\n",
        "GPU_STRATEGY = tf.distribute.MirroredStrategy(GPU)\n",
        "\n",
        "print(GPU)"
      ]
    },
    {
      "cell_type": "markdown",
      "metadata": {
        "id": "0t1jfsJlM3SX"
      },
      "source": [
        "## Defining The Metadata"
      ]
    },
    {
      "cell_type": "code",
      "execution_count": null,
      "metadata": {
        "id": "8Z74MlibMWnu"
      },
      "outputs": [],
      "source": [
        "# META ########################################################################\n",
        "\n",
        "N_DEPTH = 2 # D\n",
        "N_TOKEN_DIM = 4 # G\n",
        "N_ENCODING_DIM = 256 # U\n",
        "N_EMBEDDING_DIM = N_ENCODING_DIM # E\n",
        "N_LATENT_DIM = N_EMBEDDING_DIM # L\n",
        "\n",
        "N_EPOCHS = 16\n",
        "N_EPOCHS_RAMPUP = 0\n",
        "N_EPOCHS_SUSTAIN = 0\n",
        "\n",
        "N_BATCH = 128 # number of samples per batch\n",
        "N_SAMPLE = 128 # number of characters per sample (=> N_TOKEN_DIM * N_SAMPLE int per sample)\n",
        "\n",
        "R_MIN = 0.0001\n",
        "R_MAX = 0.001\n",
        "R_EXP = .9\n",
        "\n",
        "VERSION = 'tokun-4-keras-1M200K'"
      ]
    },
    {
      "cell_type": "markdown",
      "metadata": {
        "id": "dEyFtkcFNGe4"
      },
      "source": [
        "## Loading The Data"
      ]
    },
    {
      "cell_type": "code",
      "execution_count": null,
      "metadata": {
        "id": "4a3SQUQHNJ6M"
      },
      "outputs": [],
      "source": [
        "# DATA ########################################################################\n",
        "\n",
        "LANG = ['ar', 'de', 'en', 'es', 'hi', 'vi', 'zh']\n",
        "TRAIN = {__l: tfds.load('mlqa/' + __l, split='test', as_supervised=False, shuffle_files=True, data_dir='~/.cache/tensorflow/', batch_size=N_BATCH) for __l in LANG}\n",
        "TEST = {__l: tfds.load('mlqa/' + __l, split='validation', as_supervised=False, shuffle_files=True, data_dir='~/.cache/tensorflow/', batch_size=N_BATCH) for __l in LANG}"
      ]
    },
    {
      "cell_type": "markdown",
      "metadata": {
        "id": "WdWFiijDnwa4"
      },
      "source": [
        "## LAYERS"
      ]
    },
    {
      "cell_type": "code",
      "execution_count": null,
      "metadata": {
        "id": "x1HZhkT9Rtz4"
      },
      "outputs": [],
      "source": [
        "# EMBEDDING ###################################################################\n",
        "\n",
        "class PositionalEmbedding(tf.keras.layers.Layer):\n",
        "    def __init__(\n",
        "        self,\n",
        "        input_axis: int=1, # axis of the sequence\n",
        "        output_axis: int=-1, # axis of the embedding\n",
        "        **kwargs\n",
        "    ):\n",
        "        super(PositionalEmbedding, self).__init__(**kwargs)\n",
        "        self._input_axis = input_axis\n",
        "        self._output_axis = output_axis\n",
        "        self._kernel = None\n",
        "\n",
        "    def build(self, input_shape: tuple):\n",
        "        # shape\n",
        "        __axes = [self._input_axis % len(input_shape), self._output_axis % len(input_shape)]\n",
        "        __shape = [(__d if __i in __axes else 1) for __i, __d in enumerate(list(input_shape))]\n",
        "        # init values\n",
        "        __kernel_init = tf.keras.initializers.GlorotNormal()\n",
        "        # register the weights\n",
        "        self._kernel = self.add_weight(name=\"kernel\", shape=__shape, initializer=__kernel_init)\n",
        "        # notify the model\n",
        "        self.built = True\n",
        "\n",
        "    def call(self, inputs: tf.Tensor):\n",
        "        return inputs + self._kernel # each index in the sequence axis has a dedicated bias (different from dense bias)\n",
        "\n",
        "# RESHAPING ###################################################################\n",
        "\n",
        "def _normalize_shape(shape: list) -> list:\n",
        "    return [-1 if __d is None else __d for __d in shape]\n",
        "\n",
        "def _normalize_dim(dim: int) -> int:\n",
        "    return -1 if (dim is None or dim < 0) else dim\n",
        "\n",
        "def _multiply_dim(dim_l: int, dim_r: int) -> int:\n",
        "    return -1 if (dim_l == -1 or dim_r == -1) else dim_l * dim_r\n",
        "\n",
        "def _divide_dim(dim_l: int, dim_r: int) -> int:\n",
        "    return -1 if (dim_l == -1 or dim_r == -1) else dim_l // dim_r\n",
        "\n",
        "class Divide(tf.keras.layers.Layer):\n",
        "    def __init__(\n",
        "        self,\n",
        "        input_axis: int, # relative to the NEW shape / rank\n",
        "        output_axis: int, # same\n",
        "        factor: int,\n",
        "        insert: bool=False,\n",
        "        **kwargs\n",
        "    ) -> None:\n",
        "        super(Divide, self).__init__(**kwargs)\n",
        "        self._input_axis = input_axis\n",
        "        self._output_axis = output_axis\n",
        "        self._factor = factor\n",
        "        self._insert = insert\n",
        "\n",
        "    def call(self, inputs: tf.Tensor) -> tf.Tensor:\n",
        "        # infer the dimension of the symbolic axis\n",
        "        __shape = _normalize_shape(list(inputs.shape))\n",
        "        # rank, according to the new shape\n",
        "        __rank = len(__shape) + int(self._insert)\n",
        "        # axes, taken from the new shape\n",
        "        __axis0 = self._input_axis % __rank\n",
        "        __axis1 = self._output_axis % __rank\n",
        "        # option to group data on a new axistho i do it with other\n",
        "        if self._insert: __shape.insert(__axis1, 1)\n",
        "        # move data from axis 0 to axis 1\n",
        "        __shape[__axis0] = _divide_dim(__shape[__axis0], self._factor)\n",
        "        __shape[__axis1] = _multiply_dim(__shape[__axis1], self._factor)\n",
        "        return tf.reshape(tensor=inputs, shape=__shape)\n",
        "\n",
        "class Merge(tf.keras.layers.Layer):\n",
        "    def __init__(\n",
        "        self,\n",
        "        left_axis: int=-2,\n",
        "        right_axis: int=-1,\n",
        "        left: bool=True,\n",
        "        **kwargs\n",
        "    ) -> None:\n",
        "        super(Merge, self).__init__(**kwargs)\n",
        "        self._left_axis = left_axis\n",
        "        self._right_axis = right_axis\n",
        "        self._left = left\n",
        "\n",
        "    def call(self, inputs: tf.Tensor) -> tf.Tensor:\n",
        "        # infer the dimension of the symbolic axis\n",
        "        __shape = _normalize_shape(list(inputs.shape))\n",
        "        __rank = len(__shape)\n",
        "        # target axes\n",
        "        __axis_l = self._left_axis % __rank\n",
        "        __axis_r = self._right_axis % __rank\n",
        "        # new axis\n",
        "        __dim = _multiply_dim(__shape[__axis_l], __shape[__axis_r])\n",
        "        __axis_k = __axis_l if self._left else __axis_r # kept axis\n",
        "        __axis_d = __axis_r if self._left else __axis_l # deleted axis\n",
        "        # new shape\n",
        "        __shape[__axis_k] = __dim\n",
        "        __shape.pop(__axis_d)\n",
        "        # actually merge the two axes\n",
        "        return tf.reshape(tensor=inputs, shape=__shape)"
      ]
    },
    {
      "cell_type": "markdown",
      "metadata": {
        "id": "IgceZVOon0Mi"
      },
      "source": [
        "## Blocks"
      ]
    },
    {
      "cell_type": "code",
      "execution_count": null,
      "metadata": {
        "id": "ITuRAod-n6Lm"
      },
      "outputs": [],
      "source": [
        "# ENCODING BLOCKS #############################################################\n",
        "\n",
        "class TokenizeBlock(tf.keras.layers.Layer):\n",
        "    def __init__(\n",
        "        self,\n",
        "        left_axis: int=-2,\n",
        "        right_axis: int=-1,\n",
        "        token_dim: int=4,\n",
        "        latent_dim: int=256,\n",
        "        **kwargs\n",
        "    ) -> None:\n",
        "        super(TokenizeBlock, self).__init__(**kwargs)\n",
        "        # layers\n",
        "        self._divide = Divide(input_axis=0, output_axis=1, factor=token_dim, insert=True, name='group') # (B * G, E) => (B, G, E)\n",
        "        self._embedding = PositionalEmbedding(input_axis=left_axis, output_axis=right_axis, name='position-embeddings') # (B, G, E) + (1, G, E)\n",
        "        self._merge = Merge(left_axis=left_axis, right_axis=right_axis, left=True, name='merge-embeddings') # (B, G, E) => (B, G * E)\n",
        "        self._dense = tf.keras.layers.Dense(units=latent_dim, activation='relu', use_bias=True, kernel_initializer='glorot_uniform', bias_initializer='zeros', name='compress-embeddings') # (B, G * E) => (B, L), typically L = E\n",
        "\n",
        "    def call(self, inputs: tf.Tensor) -> tf.Tensor:\n",
        "        return self._dense(self._merge(self._embedding(self._divide(inputs))))\n",
        "\n",
        "# DECODING BLOCKS #############################################################\n",
        "\n",
        "class DetokenizeBlock(tf.keras.layers.Layer):\n",
        "    def __init__(\n",
        "        self,\n",
        "        token_dim: int=4,\n",
        "        embedding_dim: int=256,\n",
        "        **kwargs\n",
        "    ) -> None:\n",
        "        super(DetokenizeBlock, self).__init__(**kwargs)\n",
        "        # layers\n",
        "        self._dense = tf.keras.layers.Dense(units=token_dim * embedding_dim, activation='relu', use_bias=True, kernel_initializer='glorot_uniform', bias_initializer='zeros', name='decompress-embeddings') # (B, L) => (B, G * E), typically L = E\n",
        "        self._divide = Divide(input_axis=-2, output_axis=-1, insert=True, factor=embedding_dim, name='divide-embeddings') # (B, G * E) => (B, G, E)\n",
        "        self._embedding = PositionalEmbedding(input_axis=-2, output_axis=-1, name='position-embeddings') # (B, G, E) + (1, G, E)\n",
        "        self._merge = Merge(left_axis=0, right_axis=1, left=True) # (B, G, E) => (B * G, E)\n",
        "\n",
        "    def call(self, inputs: tf.Tensor) -> tf.Tensor:\n",
        "        return self._merge(self._embedding(self._divide(self._dense(inputs))))\n",
        "\n",
        "# HEAD BLOCK ##################################################################\n",
        "\n",
        "class HeadBlock(tf.keras.layers.Layer):\n",
        "    def __init__(\n",
        "        self,\n",
        "        encoding_dim: int=256,\n",
        "        **kwargs\n",
        "    ) -> None:\n",
        "        super(HeadBlock, self).__init__(**kwargs)\n",
        "        # layers\n",
        "        self._dense = tf.keras.layers.Dense(units=encoding_dim, activation=None, use_bias=True, kernel_initializer='glorot_uniform', bias_initializer='zeros', name='project-head') # (..., G, E) => (..., G, U), typically U = E\n",
        "        self._softmax = tf.keras.layers.Softmax(axis=-1, name='softmax') # (..., G, U)\n",
        "\n",
        "    def call(self, inputs: tf.Tensor) -> tf.Tensor:\n",
        "        return self._softmax(self._dense(inputs))"
      ]
    },
    {
      "cell_type": "markdown",
      "metadata": {
        "id": "S39n2JmXG6yv"
      },
      "source": [
        "## Model"
      ]
    },
    {
      "cell_type": "code",
      "execution_count": null,
      "metadata": {
        "id": "T0upuSDyELmZ"
      },
      "outputs": [],
      "source": [
        "# ENCODER #####################################################################\n",
        "\n",
        "class Encoder(tf.keras.models.Model):\n",
        "    def __init__(self, token_dim: int, encoding_dim: int, embedding_dim: int, latent_dim: int, batch_dim: int=None, **kwargs) -> None:\n",
        "        super(Encoder, self).__init__(**kwargs)\n",
        "        self._encoder = tf.keras.Sequential([\n",
        "            tf.keras.Input(shape=(encoding_dim,), batch_size=batch_dim, name='input'), # (B * G * G, U)\n",
        "            tf.keras.layers.Dense(units=embedding_dim, activation=None, use_bias=False, kernel_initializer='glorot_uniform', bias_initializer=None, name='embed-1'), # (B * G * G, U) => (B * G * G, E)\n",
        "            TokenizeBlock(left_axis=-2, right_axis=-1, token_dim=token_dim, latent_dim=latent_dim, name='tokenize-4'), # (B * G * G, E) => (B * G, E)\n",
        "            TokenizeBlock(left_axis=-2, right_axis=-1, token_dim=token_dim, latent_dim=latent_dim, name='tokenize-4-4'),]) # (B * G, E) => (B, E)\n",
        "\n",
        "    def call(self, x: tf.Tensor) -> tf.Tensor:\n",
        "        return self._encoder(x)\n",
        "\n",
        "# DECODER #####################################################################\n",
        "\n",
        "class Decoder(tf.keras.models.Model):\n",
        "    def __init__(self, token_dim: int, encoding_dim: int, embedding_dim: int, latent_dim: int, batch_dim: int=None, **kwargs) -> None:\n",
        "        super(Decoder, self).__init__(**kwargs)\n",
        "        self._decoder = tf.keras.Sequential([\n",
        "            tf.keras.Input(shape=(latent_dim,), batch_size=batch_dim, name='input'), # (B, E)\n",
        "            DetokenizeBlock(token_dim=token_dim, embedding_dim=embedding_dim, name='detokenize-4-4'), # (B, E) => (B * G, E)\n",
        "            DetokenizeBlock(token_dim=token_dim, embedding_dim=embedding_dim, name='detokenize-4'), # (B * G, E) => (B * G * G, E)\n",
        "            HeadBlock(encoding_dim=encoding_dim, name='project-head')]) # (B * G, E) => (B * G, U)\n",
        "\n",
        "    def call(self, x: tf.Tensor) -> tf.Tensor:\n",
        "        return self._decoder(x)\n",
        "\n",
        "# VAE #########################################################################\n",
        "\n",
        "class AutoEncoder(tf.keras.models.Model):\n",
        "    def __init__(self, token_dim: int, encoding_dim: int, embedding_dim: int, latent_dim: int, batch_dim: int=None, **kwargs) -> None:\n",
        "        super(AutoEncoder, self).__init__(**kwargs)\n",
        "        self._encoder = Encoder(token_dim=token_dim, encoding_dim=encoding_dim, embedding_dim=embedding_dim, latent_dim=latent_dim, batch_dim=batch_dim)\n",
        "        self._decoder = Decoder(token_dim=token_dim, encoding_dim=encoding_dim, embedding_dim=embedding_dim, latent_dim=latent_dim, batch_dim=batch_dim)\n",
        "\n",
        "    def call(self, x: tf.Tensor) -> tf.Tensor:\n",
        "        return self._decoder(self._encoder(x))"
      ]
    },
    {
      "cell_type": "code",
      "execution_count": null,
      "metadata": {
        "id": "iEpY1-vFIFX7"
      },
      "outputs": [],
      "source": [
        "with GPU_STRATEGY.scope():\n",
        "  MODEL = AutoEncoder(token_dim=N_TOKEN_DIM, encoding_dim=N_ENCODING_DIM, embedding_dim=N_EMBEDDING_DIM, latent_dim=N_LATENT_DIM, batch_dim=None)\n",
        "  MODEL.compile(\n",
        "    optimizer=tf.keras.optimizers.Adam(learning_rate=R_MAX),\n",
        "    loss=tf.keras.losses.CategoricalCrossentropy(from_logits=False, label_smoothing=0., axis=-1, reduction=tf.keras.losses.Reduction.SUM_OVER_BATCH_SIZE, name='loss'),\n",
        "    metrics=['accuracy'])\n"
      ]
    },
    {
      "cell_type": "markdown",
      "metadata": {
        "id": "8cheN52OEchs"
      },
      "source": [
        "## Train"
      ]
    },
    {
      "cell_type": "code",
      "execution_count": null,
      "metadata": {
        "id": "uintcdw8KwOc"
      },
      "outputs": [],
      "source": [
        "# CONTROL #####################################################################\n",
        "\n",
        "def learning_rate_hokusai(epoch: int, lr_min: float, lr_max: float, lr_exp: float, rampup: int, sustain: int) -> float:\n",
        "    __lr = lr_min\n",
        "    if epoch < rampup:\n",
        "        __lr = lr_min + (epoch * (lr_max - lr_min) / rampup)\n",
        "    elif epoch < rampup + sustain:\n",
        "        __lr = lr_max\n",
        "    else:\n",
        "        __lr = lr_min + (lr_max - lr_min) * lr_exp ** (epoch - rampup - sustain)\n",
        "    return __lr"
      ]
    },
    {
      "cell_type": "code",
      "execution_count": null,
      "metadata": {
        "id": "9vnCKf88Na2E"
      },
      "outputs": [],
      "source": [
        "# PREPROCESS ##################################################################\n",
        "\n",
        "def shape(layer_count: int, group_size: int, flatten: bool=False) -> list:\n",
        "    return [-1] + (1 - int(flatten)) * layer_count * [group_size]\n",
        "\n",
        "def _tokenize_scalar(text: str, layer_count: int=1, group_size: int=4, flatten: bool=False) -> tf.Tensor:\n",
        "    __mod = group_size ** layer_count\n",
        "    __bytes = list(text.encode('utf-32-be'))\n",
        "    __shape = shape(layer_count=layer_count, group_size=group_size, flatten=flatten)\n",
        "    __padding = (-len(__bytes) % __mod) * [0]\n",
        "    __tensor = tf.convert_to_tensor(value=__bytes + __padding, dtype=tf.dtypes.int32) # uint8 is not allowed\n",
        "    return tf.reshape(tensor=__tensor, shape=__shape)\n",
        "\n",
        "def tokenize(data: tf.Tensor, layer_count: int=1, group_size: int=4, sample_size: int=64, flatten: bool=False) -> tf.Tensor:\n",
        "    # make sure each sample has a length multiple of G ** L = T, the token dim\n",
        "    __mod = group_size ** layer_count\n",
        "    __dim = math.ceil(4 * sample_size / __mod) * __mod # factor 4 because of the UTF-32 encoding\n",
        "    # output shape\n",
        "    __shape = shape(layer_count=layer_count, group_size=group_size, flatten=flatten)\n",
        "    # Decode bytes from UTF-8\n",
        "    __bytes = tf.strings.unicode_transcode(input=data, input_encoding='UTF-8', output_encoding='UTF-32-BE') # (B,)\n",
        "    # Decode byte strings to arrays of integers\n",
        "    __ints = tf.io.decode_raw(__bytes, out_type=tf.uint8, fixed_length=__dim) # (B, 4 * S)\n",
        "    # group the characters into tokens\n",
        "    return tf.reshape(tensor=__ints, shape=__shape) # for example (-1, G, G, G) the first dimension is not B\n",
        "\n",
        "def preprocess(dataset: tf.data.Dataset, key: str='context', layer_count: int=1, group_size: int=4, sample_size: int=64, flatten: bool=False) -> tf.data.Dataset:\n",
        "    # from UTF-8 bytes scalar to UTF-32-BE int tensor\n",
        "    __dataset = dataset.map(lambda x: tokenize(data=x[key], layer_count=layer_count, group_size=group_size, sample_size=sample_size, flatten=flatten))\n",
        "    # one-hot encoding of UTF-32 bytes\n",
        "    __dataset = __dataset.map(lambda x: tf.one_hot(indices=x, depth=256, axis=-1))\n",
        "    # produce (input, target) tuples for supervised training, instead of a single tensor X\n",
        "    return __dataset.map(lambda x: (x,x))"
      ]
    },
    {
      "cell_type": "code",
      "source": [
        "TRAIN = {__l: preprocess(dataset=__d, key='context', layer_count=N_DEPTH, group_size=N_TOKEN_DIM, sample_size=N_SAMPLE, flatten=True) for __l, __d in TRAIN.items()}\n",
        "TEST = {__l: preprocess(dataset=__d, key='context', layer_count=N_DEPTH, group_size=N_TOKEN_DIM, sample_size=N_SAMPLE, flatten=True) for __l, __d in TEST.items()}"
      ],
      "metadata": {
        "id": "Gp2WitYVhs8I"
      },
      "execution_count": null,
      "outputs": []
    },
    {
      "cell_type": "code",
      "execution_count": null,
      "metadata": {
        "id": "9e3KMoxKn1Bd"
      },
      "outputs": [],
      "source": [
        "# SAVE ########################################################################\n",
        "\n",
        "# log path\n",
        "LOGPATH = os.path.join('.logs/', VERSION, datetime.datetime.now().strftime(\"%Y%m%d-%H%M%S\"))\n",
        "SUMMARY = tf.summary.create_file_writer(LOGPATH)"
      ]
    },
    {
      "cell_type": "code",
      "execution_count": null,
      "metadata": {
        "colab": {
          "base_uri": "https://localhost:8080/"
        },
        "id": "beTpALmzFdu1",
        "outputId": "98bb4e71-b276-42ee-b8c5-c6689135e1ae"
      },
      "outputs": [
        {
          "output_type": "stream",
          "name": "stdout",
          "text": [
            "\n",
            "Epoch 1: LearningRateScheduler setting learning rate to 0.0004.\n",
            "Epoch 1/16\n",
            "334/334 - 23s - loss: 0.0054 - accuracy: 0.9987 - val_loss: 0.0011 - val_accuracy: 0.9998 - lr: 4.0000e-04 - 23s/epoch - 70ms/step\n",
            "\n",
            "Epoch 2: LearningRateScheduler setting learning rate to 0.00037000000000000005.\n",
            "Epoch 2/16\n",
            "334/334 - 23s - loss: 0.0037 - accuracy: 0.9992 - lr: 3.7000e-04 - 23s/epoch - 70ms/step\n",
            "\n",
            "Epoch 3: LearningRateScheduler setting learning rate to 0.00034300000000000004.\n",
            "Epoch 3/16\n",
            "334/334 - 24s - loss: 0.0026 - accuracy: 0.9995 - val_loss: 8.0122e-04 - val_accuracy: 0.9999 - lr: 3.4300e-04 - 24s/epoch - 71ms/step\n",
            "\n",
            "Epoch 4: LearningRateScheduler setting learning rate to 0.00031870000000000005.\n",
            "Epoch 4/16\n",
            "334/334 - 23s - loss: 0.0019 - accuracy: 0.9996 - lr: 3.1870e-04 - 23s/epoch - 70ms/step\n",
            "\n",
            "Epoch 5: LearningRateScheduler setting learning rate to 0.00029683000000000004.\n",
            "Epoch 5/16\n",
            "334/334 - 24s - loss: 0.0014 - accuracy: 0.9998 - val_loss: 6.0164e-04 - val_accuracy: 0.9999 - lr: 2.9683e-04 - 24s/epoch - 72ms/step\n",
            "\n",
            "Epoch 6: LearningRateScheduler setting learning rate to 0.00027714700000000005.\n",
            "Epoch 6/16\n",
            "334/334 - 23s - loss: 0.0010 - accuracy: 0.9998 - lr: 2.7715e-04 - 23s/epoch - 69ms/step\n",
            "\n",
            "Epoch 7: LearningRateScheduler setting learning rate to 0.0002594323.\n",
            "Epoch 7/16\n",
            "334/334 - 23s - loss: 8.0371e-04 - accuracy: 0.9999 - val_loss: 4.2569e-04 - val_accuracy: 0.9999 - lr: 2.5943e-04 - 23s/epoch - 70ms/step\n",
            "\n",
            "Epoch 8: LearningRateScheduler setting learning rate to 0.00024348907000000004.\n",
            "Epoch 8/16\n",
            "334/334 - 24s - loss: 6.3320e-04 - accuracy: 0.9999 - lr: 2.4349e-04 - 24s/epoch - 71ms/step\n",
            "\n",
            "Epoch 9: LearningRateScheduler setting learning rate to 0.00022914016300000007.\n",
            "Epoch 9/16\n",
            "334/334 - 24s - loss: 4.9811e-04 - accuracy: 0.9999 - val_loss: 2.4431e-04 - val_accuracy: 0.9999 - lr: 2.2914e-04 - 24s/epoch - 72ms/step\n",
            "\n",
            "Epoch 10: LearningRateScheduler setting learning rate to 0.00021622614670000005.\n",
            "Epoch 10/16\n",
            "334/334 - 23s - loss: 3.9561e-04 - accuracy: 0.9999 - lr: 2.1623e-04 - 23s/epoch - 68ms/step\n",
            "\n",
            "Epoch 11: LearningRateScheduler setting learning rate to 0.00020460353203000006.\n",
            "Epoch 11/16\n",
            "334/334 - 23s - loss: 3.1980e-04 - accuracy: 1.0000 - val_loss: 9.9547e-05 - val_accuracy: 1.0000 - lr: 2.0460e-04 - 23s/epoch - 68ms/step\n",
            "\n",
            "Epoch 12: LearningRateScheduler setting learning rate to 0.00019414317882700003.\n",
            "Epoch 12/16\n",
            "334/334 - 23s - loss: 2.5742e-04 - accuracy: 1.0000 - lr: 1.9414e-04 - 23s/epoch - 70ms/step\n",
            "\n",
            "Epoch 13: LearningRateScheduler setting learning rate to 0.00018472886094430006.\n",
            "Epoch 13/16\n",
            "334/334 - 24s - loss: 2.0891e-04 - accuracy: 1.0000 - val_loss: 3.5848e-05 - val_accuracy: 1.0000 - lr: 1.8473e-04 - 24s/epoch - 72ms/step\n",
            "\n",
            "Epoch 14: LearningRateScheduler setting learning rate to 0.00017625597484987004.\n",
            "Epoch 14/16\n",
            "334/334 - 23s - loss: 1.7089e-04 - accuracy: 1.0000 - lr: 1.7626e-04 - 23s/epoch - 68ms/step\n",
            "\n",
            "Epoch 15: LearningRateScheduler setting learning rate to 0.00016863037736488304.\n",
            "Epoch 15/16\n",
            "334/334 - 24s - loss: 1.3951e-04 - accuracy: 1.0000 - val_loss: 1.8509e-05 - val_accuracy: 1.0000 - lr: 1.6863e-04 - 24s/epoch - 72ms/step\n",
            "\n",
            "Epoch 16: LearningRateScheduler setting learning rate to 0.00016176733962839474.\n",
            "Epoch 16/16\n",
            "334/334 - 24s - loss: 1.1436e-04 - accuracy: 1.0000 - lr: 1.6177e-04 - 24s/epoch - 71ms/step\n"
          ]
        }
      ],
      "source": [
        "# TRAIN #######################################################################\n",
        "\n",
        "# called during training\n",
        "tb_callback = tf.keras.callbacks.TensorBoard(log_dir=LOGPATH)\n",
        "lr_callback = tf.keras.callbacks.LearningRateScheduler(functools.partial(learning_rate_hokusai, lr_min=R_MIN, lr_max=0.4 * R_MAX, lr_exp=R_EXP, rampup=N_EPOCHS_RAMPUP, sustain=N_EPOCHS_SUSTAIN), verbose=True)\n",
        "\n",
        "TRAINING_HISTORY = MODEL.fit(\n",
        "    x=TRAIN['ar'].concatenate(TRAIN['en']).concatenate(TRAIN['es']).concatenate(TRAIN['de']).concatenate(TRAIN['hi']).concatenate(TRAIN['vi']).concatenate(TRAIN['zh']),\n",
        "    batch_size=N_BATCH,\n",
        "    epochs=N_EPOCHS,\n",
        "    validation_split=None,\n",
        "    validation_data=TEST['ar'], # full of glyphs\n",
        "    validation_freq=list(range(1, N_EPOCHS + 1, N_EPOCHS // 8)),\n",
        "    verbose=2,\n",
        "    callbacks=[lr_callback, tb_callback])"
      ]
    },
    {
      "cell_type": "code",
      "execution_count": null,
      "metadata": {
        "colab": {
          "base_uri": "https://localhost:8080/"
        },
        "id": "EuRwWdjpPQBM",
        "outputId": "3cd0d88d-68f7-4015-8961-2ee2d6ebb40a"
      },
      "outputs": [
        {
          "output_type": "stream",
          "name": "stdout",
          "text": [
            "Model: \"auto_encoder_2\"\n",
            "_________________________________________________________________\n",
            " Layer (type)                Output Shape              Param #   \n",
            "=================================================================\n",
            " encoder_2 (Encoder)         multiple                  592384    \n",
            "                                                                 \n",
            " decoder_2 (Decoder)         multiple                  594176    \n",
            "                                                                 \n",
            "=================================================================\n",
            "Total params: 1186560 (4.53 MB)\n",
            "Trainable params: 1186560 (4.53 MB)\n",
            "Non-trainable params: 0 (0.00 Byte)\n",
            "_________________________________________________________________\n"
          ]
        }
      ],
      "source": [
        "MODEL.summary()"
      ]
    },
    {
      "cell_type": "markdown",
      "metadata": {
        "id": "NMqMBhAidTZ9"
      },
      "source": [
        "## Dataviz"
      ]
    },
    {
      "cell_type": "code",
      "source": [
        "# GENERIC #####################################################################\n",
        "\n",
        "def _label(c: str) -> str:\n",
        "    return '#{}'.format(c.encode('utf-32-be').hex())\n",
        "\n",
        "def label(token: str) -> str:\n",
        "    return ' '.join(_label(__c) for __c in token)\n",
        "\n",
        "def compare(left: str, right: str) -> float:\n",
        "    return sum(__l == __r for __l, __r in zip(left, right)) / max(1, len(left))\n",
        "\n",
        "def chunk(seq: list, size: int, repeats: bool=True) -> list:\n",
        "    __chunks = (seq[__i:__i+size] for __i in range(0, len(seq), size))\n",
        "    return list(__chunks if repeats else set(__chunks))"
      ],
      "metadata": {
        "id": "sEsZzv5jr1RO"
      },
      "execution_count": null,
      "outputs": []
    },
    {
      "cell_type": "code",
      "execution_count": null,
      "metadata": {
        "id": "16a7CcvCF-xG"
      },
      "outputs": [],
      "source": [
        "# POSTPROCESS #################################################################\n",
        "\n",
        "def interpret(output: tf.Tensor) -> tf.Tensor:\n",
        "    return tf.argmax(input=output, axis=-1, output_type=tf.dtypes.int32) # uint8 is not allowed\n",
        "\n",
        "def detokenize(tokens: tf.Tensor) -> str:\n",
        "    __b = tf.reshape(tensor=tokens, shape=(-1,)).numpy().tolist()\n",
        "    return bytes(__b).decode(encoding='utf-32-be', errors='replace')\n",
        "\n",
        "def postprocess(output: tf.Tensor) -> tf.Tensor:\n",
        "    # from one-hot to indices\n",
        "    __output = interpret(output=output)\n",
        "    # flatten\n",
        "    return detokenize(tokens=__output)"
      ]
    },
    {
      "cell_type": "code",
      "execution_count": null,
      "metadata": {
        "id": "zaBcE9IpoyWJ"
      },
      "outputs": [],
      "source": [
        "# SAVE ########################################################################\n",
        "\n",
        "def write(data: any, path: str, tsv: bool=True) -> None:\n",
        "    with open(path, 'w') as __f:\n",
        "      for __row in data:\n",
        "        __line = '\\t'.join(str(__v) for __v in __row) if tsv else str(__row)\n",
        "        __f.write(__line + '\\n')"
      ]
    },
    {
      "cell_type": "code",
      "execution_count": null,
      "metadata": {
        "id": "00maJbmdeeBi"
      },
      "outputs": [],
      "source": [
        "# SAMPLES #####################################################################\n",
        "\n",
        "SAMPLES = {}\n",
        "TOKENS = {1: {}, 4: {}, 16: {}}\n",
        "EMBEDDINGS = {1: {}, 4: {}, 16: {}}\n",
        "\n",
        "for __l in TEST:\n",
        "    # compute predictions\n",
        "    __i = iter(TEST[__l]) # iterate over batches of samples\n",
        "    __x = next(__i)[0] # take input only\n",
        "    __o = MODEL(__x)\n",
        "    # sample predictions (inputs, outputs)\n",
        "    SAMPLES[__l] = (__x, __o)\n",
        "    # unique 1-tokens (characters)\n",
        "    TOKENS[1][__l] = chunk(seq=postprocess(__x), size=1, repeats=False)\n",
        "    # unique 4-tokens\n",
        "    TOKENS[4][__l] = chunk(seq=postprocess(__x), size=4, repeats=False)\n",
        "\n",
        "TOKENS[1]['all'] = list(set(__t for _, __s in TOKENS[1].items() for __t in __s))\n",
        "TOKENS[4]['all'] = list(set(__t for _, __s in TOKENS[4].items() for __t in __s))"
      ]
    },
    {
      "cell_type": "code",
      "source": [
        "# EMBEDDINGS ##################################################################\n",
        "\n",
        "for __l, __s in TOKENS[1].items():\n",
        "    # re-encode without token repeats\n",
        "    __token_x = tf.one_hot(indices=_tokenize_scalar(text=''.join(__s), layer_count=N_DEPTH, group_size=4, flatten=True), depth=256, axis=-1)\n",
        "    # embed\n",
        "    EMBEDDINGS[1][__l] = MODEL._encoder._encoder.layers[1](MODEL._encoder._encoder.layers[0](__token_x))[:len(__s)]\n",
        "\n",
        "for __l, __s in TOKENS[4].items():\n",
        "    # re-encode without token repeats\n",
        "    __token_x = tf.one_hot(indices=_tokenize_scalar(text=''.join(__s), layer_count=N_DEPTH, group_size=4, flatten=True), depth=256, axis=-1)\n",
        "    # embed\n",
        "    EMBEDDINGS[4][__l] = MODEL._encoder(__token_x)[:len(__s)]"
      ],
      "metadata": {
        "id": "MXwu28nwRNV6"
      },
      "execution_count": null,
      "outputs": []
    },
    {
      "cell_type": "code",
      "source": [
        "# SAVE ########################################################################\n",
        "\n",
        "write(data=[__c + ' ' + label(__c) for __c in TOKENS[1]['all']], path='./metadata.1.tsv', tsv=False)\n",
        "write(data=EMBEDDINGS[1]['all'].numpy(), path='./embeddings.1.tsv', tsv=True)\n",
        "\n",
        "write(data=[__c + ' ' + label(__c) for __c in TOKENS[4]['all']], path='./metadata.4.tsv', tsv=False)\n",
        "write(data=EMBEDDINGS[4]['all'].numpy(), path='./embeddings.4.tsv', tsv=True)"
      ],
      "metadata": {
        "id": "eEMCho-WRPti"
      },
      "execution_count": null,
      "outputs": []
    },
    {
      "cell_type": "code",
      "source": [
        "MODEL.save('model.keras', save_format='keras')"
      ],
      "metadata": {
        "id": "Nc-31vjMLHWL"
      },
      "execution_count": null,
      "outputs": []
    },
    {
      "cell_type": "code",
      "source": [
        "# TEST ########################################################################\n",
        "\n",
        "__s = \"\"\"class Encoder(tf.keras.models.Model):\\n    def __init__(self, depth: int, token_dim: int, encoding_dim: int, embedding_dim: int, latent_dim: int, batch_dim: int=None, attention: bool=False, **kwargs) -> None:\\n        super(Encoder, self).__init__(**kwargs)\\n        self._encoder = tf.keras.Sequential([\\n            tf.keras.Input(shape=(encoding_dim,), batch_size=batch_dim, name='input'), # (B * G ^ D, U)\\n            tf.keras.layers.Dense(units=embedding_dim, activation=None, use_bias=False, kernel_initializer='glorot_uniform', bias_initializer=None, name='embed-1'),] # (B * G ^ D, U) => (B * G ^ D, E)\\n            + [_mmtl.TokenizeBlock(left_axis=-2, right_axis=-1, token_dim=token_dim, latent_dim=latent_dim, attention=attention, name='tokenize' + (__i + 1) * '-4') for __i in range(depth)]) # (B * G ^ i, E) => (B * G ^ (i-1), E)\\n\\n    def call(self, x: tf.Tensor) -> tf.Tensor:\\n        return self._encoder(x)\\n\"\"\"\n",
        "\n",
        "__x = tf.one_hot(indices=_tokenize_scalar(text=__s, layer_count=N_DEPTH, group_size=4, flatten=True), depth=256, axis=-1)\n",
        "__e = MODEL._encoder(__x)\n",
        "__p = MODEL(__x)\n",
        "__y = postprocess(__p)\n",
        "\n",
        "print(__s)\n",
        "print(__y)\n",
        "print(compare(__s, __y))"
      ],
      "metadata": {
        "id": "67R4pg42c-jh",
        "colab": {
          "base_uri": "https://localhost:8080/"
        },
        "outputId": "8771ec35-bc38-4670-8a09-d772f306475d"
      },
      "execution_count": null,
      "outputs": [
        {
          "output_type": "stream",
          "name": "stdout",
          "text": [
            "class Encoder(tf.keras.models.Model):\n",
            "    def __init__(self, depth: int, token_dim: int, encoding_dim: int, embedding_dim: int, latent_dim: int, batch_dim: int=None, attention: bool=False, **kwargs) -> None:\n",
            "        super(Encoder, self).__init__(**kwargs)\n",
            "        self._encoder = tf.keras.Sequential([\n",
            "            tf.keras.Input(shape=(encoding_dim,), batch_size=batch_dim, name='input'), # (B * G ^ D, U)\n",
            "            tf.keras.layers.Dense(units=embedding_dim, activation=None, use_bias=False, kernel_initializer='glorot_uniform', bias_initializer=None, name='embed-1'),] # (B * G ^ D, U) => (B * G ^ D, E)\n",
            "            + [_mmtl.TokenizeBlock(left_axis=-2, right_axis=-1, token_dim=token_dim, latent_dim=latent_dim, attention=attention, name='tokenize' + (__i + 1) * '-4') for __i in range(depth)]) # (B * G ^ i, E) => (B * G ^ (i-1), E)\n",
            "\n",
            "    def call(self, x: tf.Tensor) -> tf.Tensor:\n",
            "        return self._encoder(x)\n",
            "\n",
            "class Encoder(tf.keras.models.Model):G    def __init__(self, depth: int, token_dim: int, encoding_dim: int, embedding_dim: int, latent_dim: int, batch_dim: int=None, attention: bool=False, **kwargs) -> None:\n",
            "        super(Encoder, self).__init__(**kwargs)G        self._encoder = tf.keras.Sequential([G            tf.keras.Input(shape=(encoding_dim,), batch_size=batch_dim, name='input'), # (B * G E D, U)G            tf.keras.layers.Dense(units=embedding_dim, activation=None, use_bias=False, kernel_initializer='glorot_uniform', bias_initializer=None, name='embed-1'),] # (B * G ^ D, U) => (B * G ^ D, E)G            + [_mmtl.TokenizeBlock(left_axis=-2, right_axis=-1, token_dim=token_dim, latent_dim=latent_dim, attention=attention, name='tokenize' + (__i + 1) * '-4') for __i in range(depth)]) # (B * G ^ i, E) => (B * G ^ (i-1), E)GG    def call(self, x: tf.Tensor) -> tf.Tensor:G        return self._encoder(x)G\u0000\u0000\u0000\n",
            "0.9890948745910578\n"
          ]
        }
      ]
    },
    {
      "cell_type": "code",
      "source": [
        "__l = postprocess(SAMPLES['de'][0])\n",
        "__r = postprocess(SAMPLES['de'][1])\n",
        "\n",
        "print(__l)\n",
        "print(__r)\n",
        "print(compare(__l, __r))"
      ],
      "metadata": {
        "colab": {
          "base_uri": "https://localhost:8080/"
        },
        "id": "wCdpPd21OCoB",
        "outputId": "e1f136c6-7c6a-466d-8cfd-3d56c27386f4"
      },
      "execution_count": null,
      "outputs": [
        {
          "output_type": "stream",
          "name": "stdout",
          "text": [
            "Bis Mitte des 20. Jahrhunderts glaubten die meisten Förster, dass Feuer jederzeit bekämpft werden sollten. Ab 1939 legten die ArIm September 2000 erschien mit New American Gospel das zweite Album der Band und das erste unter dem neuen Namen. Das erneut vonAuf dem Grundstück, ursprünglich der erste Marktplatz Sydneys, sollte unter Gouverneur Lachlan Macquarie ein großer öffentlicherIm heutigen London sind nur noch wenige Reste der antiken Stadt zu sehen. Ruinen der Stadtmauer (die wiederum im Mittelalter weiVon den 12.961 Haushalten hatten 40,2 Prozent Kinder oder Jugendliche, die mit ihnen zusammen lebten. 58,0 Prozent waren verheirViele der präkolumbischen Hochkulturen wurden sesshaft, entwickelten Ackerbau, bauten monumental und hatten komplexe soziale HieKamen war Sohn russischer Einwanderer und wuchs in Chicago auf, wo er Chemie studierte, mit dem Bachelor-Abschluss 1933 und der Katze und Maus in Gesellschaft ist ein Tiermärchen (ATU 15). Es steht in den Kinder- und Hausmärchen der Brüder Grimm an zweiterMit Hilfe eines Bekannten trat er während seines letzten High School Jahres der Schauspielschule Starhaus Entertainment bei. NacSahn (arabisch صحن, DMG ṣaḥn) bezeichnet in der islamischen Architektur einen ummauerten Innenhof. Gemäß dem traditionellen islaAlexander County ist in sieben Townships aufgeteilt: Ellendale, Gwaltneys, Little River, Millers, Sharpes, Sugar Loaf, TaylorsviMerced ist eine Stadt im Merced County im US-Bundesstaat Kalifornien mit 82.594 Einwohnern (Stand: 2016). Das Stadtgebiet hat eiJad Kennedy (heb.: יד קנדי, deutsch: Kennedy-Mahnmal), befindet sich im Mateh Jehuda Regionalverband bei Jerusalem, Israel. Es iNach der Beendigung seines Jura-Studiums an der Universität Kairo im Jahr 1967 arbeitete er beim ägyptischen Staatsrat, dem VerwDie oberste Legislative der Kolonie, der Massachusetts General Court, beschloss am 28. Oktober 1636, trotz knapper Kassen ein CoIm selben Jahr erließ die Regierung auf Anordnung Georgs die Königliche Proklamation von 1763, welche die Ausdehnung der nordameIn den letzten Jahren hat die Feier des Valentinstags auch in Rumänien Einzug gehalten. Mehrere Gruppierungen, Institutionen undRødt oder nynorsk Raudt (R; deutsch: Rot) ist eine marxistische und demokratisch-sozialistische Partei in Norwegen. Sie entsendeDer Median des Einkommens eines Haushaltes beträgt 46.795 USD, der einer Familie 60.424 USD. Das Prokopfeinkommen liegt bei 23.5Daum veröffentlichte zwei Bücher. Sein erstes Buch „Halacha aktuell“ ist ein zweibändiges Werk, geschrieben in Deutsch, welches Ahron Daums religiöse Ausbildung begann im Alter von 13 Jahren in der litauisch-chassidischen „Ruzhin“-Jeschiwa in Bnei Brak. ImIm Jahr 2001 stieg Jaitley in die Fußstapfen ihrer Mutter und wurde zur Miss India gekrönt. Sie gewann noch einige andere AuszeiDas Commonwealth Parliament wurde am 9. Mai 1901 in Melbourne eröffnet. Das einzige Gebäude in ganz Melbourne, welches groß genuDie Geschichte des Tempels reicht bis ins Jahr 798 zurück, die heutigen Gebäude wurden allerdings im Jahr 1633 errichtet. Der TeIn Finnland wird der Valentinstag Ystävänpäivä („Tag der Freunde“) genannt. Es werden meistens anonym Karten oder kleine GeschenLawrence Lessig behauptet, dass Copyright ein Hindernis für kulturelle Produktion, Wissensverteilung und für technologische InnoGeorg wurde am Morgen des 4. Juni 1738 im Norfolk House in London geboren. Er war ein Mitglied des Fürstengeschlechts der WelfenDie mRNA, Boten-RNA (engl. messenger RNA) kopiert die in einem Gen auf der DNA liegende Information und trägt sie zum Ribosom, wReichweite und Bandbreite: Mobiler Internetzugriff ist generell langsamer als direkte Kabelverbindungen. Verwendete TechnologienJean C. Cooper schreibt im Wörterbuch des Christentums, der hl. Valentin sei ein römischer Priester gewesen, „der eingesperrt wuWährend der Zeit, die John im westlichen Pazifischen Ozean verbrachte, hatte das Joint Typhoon Warning Center (JTWC) SchwierigkeDie NASA, die ESA und die CSA kooperieren seit 1996 beim Projekt des neuen Weltraumteleskops. Der Anteil der Beteiligung der ESAJolie ist heute eine der bekanntesten Persönlichkeiten weltweit. Laut Q-Score-Index von Marketing Evaluations Inc. kannten JolieNach wie vor widmete sie sich der Malerei. Sie hielt Kontakt mit der Kronberger Malerkolonie und tauschte sich besonders mit NorNicholas John Spykman (* 13. Oktober 1893 in Amsterdam; † 26. Juni 1943 in New Haven, Connecticut) war ein niederländisch-amerikDrei Boeing 737-500 stießen 2005 zur Flotte und wurden in erster Linie für nationale Strecken mit geringerem Verkehrsaufkommen eÜber an Ausländer gerichtete Werbung des Süßwarenunternehmens Morozoff wurde der Valentinstag 1936 in Japan bekannt. 1953 stelltAir-India-Flug-101 war ein planmäßiger internationaler Flug von Bombay (heute: Mumbai) nach New York mit Zwischenstopps in DelhiAlexander Pope (* 21. Mai 1688 in London; † 30. Mai 1744 in Twickenham, heute Teil von London) war ein englischer Dichter, ÜbersWolf 359 ist ein Roter Zwerg im Sternbild Löwe. Mit einer Entfernung von ca. 7,8 Lichtjahren ist er der dem Sonnensystem fünftnäIm Fernen Osten wurden – neben Wasseruhren, mechanischen Uhren und Kerzenuhren – auch Weihrauchuhren in den verschiedensten FormAamir Khan (Hindi आमिर ख़ान Āmir Khān, * 14. März 1965 in Bombay, Maharashtra, als Mohammed Aamir Hussain Khan) ist ein indischeMethyllithium ist eine chemische Verbindung aus der Gruppe der Organolithium-Verbindungen mit der empirischen Formel CH3Li. Es iDer Steppenadler kommt von Rumänien über die Aralsteppe bis nach Transbaikal und in die Mongolei vor. Er ist in Steppen sowie ofDer Ursprung von Hurricane Norman am 25. August lag in einem ausgedehnten Tiefdruckgebiet mehrere Hundert Kilometer südsüdwestliGeorg nannte den Vertrag mit Frankreich einen „experimentellen Frieden“. 1803 erklärten sich beide Länder gegenseitig den Krieg,Bays lebt gemeinsam mit seiner Ehefrau Denise Cox in Los Angeles. Sie haben zwei gemeinsame Töchter. Bays studierte bis 1997 an Es folgt aus der Lorentzkontraktion, dass im Ruhezustand sphärische Schwerionen bei relativistischen Geschwindigkeiten in BeweguKlepsydren waren nützlicher als Sonnenuhren, da sie im Haus, während der Nacht und wenn der Himmel bewölkt war verwendet werden Reichweite und Bandbreite: Mobiler Internetzugriff ist generell langsamer als direkte Kabelverbindungen. Verwendete TechnologienNach der Volkszählung im Jahr 2000 lebten im Jim Wells County 39.326 Menschen in 12.961 Haushalten und 10.096 Familien. Die BevöHalimede wurde am 14. August 2002 durch ein Team bestehend aus Matthew J. Holman, John J. Kavelaars, Tommy Grav, Brett J. GladmaWährend seiner Arbeiten erzeugte er Wellen mit einer Wellenlänge von 5 Millimetern, untersuchte Refraktion, Diffraktion und PolaNachdem Mark Morton seinen Abschluss schaffte, verließ er die Band und zog nach Chicago. Sein Nachfolger wurde Abe Spear. Mit RaDas Tejas ist mit einer vierfach redundanten Fly-by-Wire-Steuerung nach dem HOTAS-Prinzip und moderner Avionik ausgerüstet. Dazu2011: Korea Drama Festival: Hallyu Star Award für City Hunter\u0000\u0000\u0000\u0000\u0000\u0000\u0000\u0000\u0000\u0000\u0000\u0000\u0000\u0000\u0000\u0000\u0000\u0000\u0000\u0000\u0000\u0000\u0000\u0000\u0000\u0000\u0000\u0000\u0000\u0000\u0000\u0000\u0000\u0000\u0000\u0000\u0000\u0000\u0000\u0000\u0000\u0000\u0000\u0000\u0000\u0000\u0000\u0000\u0000\u0000\u0000\u0000\u0000\u0000\u0000\u0000\u0000\u0000\u0000\u0000\u0000\u0000\u0000\u0000\u0000\u0000\u00001969 veröffentlichte er Amerika und die neuen Mandarine, eine Sammlung von Aufsätzen über den Vietnamkrieg, die Einfluss auf dieThales von Milet (Urstoff: Wasser), Anaximenes von Milet (Urstoff: Luft), Heraklit (Urstoff: Feuer). Empedokles von Agrigent sahDa sich TJ während der Schießerei im Transporter der Entführer versteckt hat, kann er Matt telefonisch zu ihrem Versteck lotsen.Als Edelgas reagiert Argon fast nicht mit anderen Elementen oder Verbindungen. Bislang ist nur das experimentell dargestellte ArWega wurde von den Astronomen ausgiebig untersucht. Dies führte dazu, dass sie „wohl als der wichtigste Stern nach der Sonne“ giMarco Casagrande (* 7. Mai 1971 in Turku, Finnland) ist ein finnischer Architekt, Schriftsteller und Professor der Architektur. Deutsch-Südwestafrika war von 1884 bis 1915 eine deutsche Kolonie (auch Schutzgebiet) auf dem Gebiet des heutigen Staates NamibiAlan Thicke wurde als Sohn von Joan, einer Krankenschwester, und William Jeffrey, einem Börsenmakler, geboren. Seine Mutter heirHilversum liegt im Gooiland, einem Gebiet mit Heide, Wald, Wiesen und kleinen Seen. Die Stadt ist 30 km südöstlich von AmsterdamShaw beschwört über Funk die restliche Besatzung an Bord der Prometheus, mit allen Mitteln zu verhindern, dass der Konstrukteur Eine ruhigere Kriegsphase im Jahr 1800 erlaubte es William Pitt, den seit 1798 anhaltenden Aufstand in Irland niederzuwerfen. DaRussells Teekanne (englisch Russell’s teapot) ist eine Analogie, die Bertrand Russell (1872–1970) in einem Artikel mit dem TitelICON A5 ist ein Hochdecker-Amphibienflugzeug aus kohlenstofffaserverstärktem Kunststoff mit einziehbarem Fahrwerk. Das LeichtfluAm folgenden Tag, dem 18. Januar, wurden vom Irak aus erstmals acht R-17-Raketen auf Israel abgefeuert. Im Verlauf des Krieges wDie Provinz Jizzax (usbekisch: Jizzax viloyati, Жиззах вилояти; Englisch: Jizakh; Aussprache: [dʒizːaχ]) ist ein Viloyat (ProvinAm 29. August absorbierte ein außertropisches Tief westnordwestlich von Hawaii die Reste von Hurrikan Lane. Das System zog durch1998: Paranoija (Stekla i beton) (Паранойя (Стекла и бетон))\u0000\u0000\u0000\u0000\u0000\u0000\u0000\u0000\u0000\u0000\u0000\u0000\u0000\u0000\u0000\u0000\u0000\u0000\u0000\u0000\u0000\u0000\u0000\u0000\u0000\u0000\u0000\u0000\u0000\u0000\u0000\u0000\u0000\u0000\u0000\u0000\u0000\u0000\u0000\u0000\u0000\u0000\u0000\u0000\u0000\u0000\u0000\u0000\u0000\u0000\u0000\u0000\u0000\u0000\u0000\u0000\u0000\u0000\u0000\u0000\u0000\u0000\u0000\u0000\u0000\u0000\u0000\u0000Diese Lochung eignet sich für alle Papierformate mit einer Höhe von mindestens 260 mm, also ISO A4 und größer.\u0000\u0000\u0000\u0000\u0000\u0000\u0000\u0000\u0000\u0000\u0000\u0000\u0000\u0000\u0000\u0000\u0000\u0000Wissenschaftliche Theorien werden oftmals als „Numerologie“ bezeichnet, wenn der ursprüngliche Zweck der Studie auf einer Reihe Die Haplogruppe L1 ist in der Humangenetik eine Haplogruppe der Mitochondrien. Die Haplogruppe L1 findet sich in West- und ZentrZwicky war der Sohn eines in Bulgarien tätigen Schweizer Baumwollhändlers. Mit sechs Jahren wurde er zwecks Einschulung nach GlaGeorg erhielt von Satirikern den Spitznamen Farmer George („Bauer Georg“). Diese machten sich zuerst über sein Interesse an alltDer Olympic Council of Asia (kurz OCA; deutsch: Olympischer Rat Asiens) ist ein Sportverband in Asien mit derzeit 45 Nationalen In der griechischen Tradition wurden bereits zu Lebzeiten Sokrates' Wasseruhren (Klepsydren) zur Begrenzung der Redezeit vor GerAm 2. Januar 1861 starb König Friedrich Wilhelm IV. Sein Nachfolger war sein Bruder Wilhelm I. Prinz Friedrich Wilhelm war damitGrundlage der Waffe war die Vorgängerversion NR-23, die verlängert und dahingehend modifiziert wurde, dass sie stärkere MunitionGeorg wurde am Morgen des 4. Juni 1738 im Norfolk House in London geboren. Er war ein Mitglied des Fürstengeschlechts der WelfenGliese 436 b (auch GJ 436 b) ist ein Exoplanet, der den Roten Zwerg Gliese 436 umkreist. Er ist möglicherweise ein sogenannter „Das gesamte Personal des Hauses ist eines Tages ohne Nachricht verschwunden, so engagiert Grace in der Woche darauf die HaushältDas in der Volksrepublik China betriebene Sozialkredit-System (englisch Social Credits) ist ein auf verschiedene Datenbanken zugQRpedia wurde im April 2011 von Roger Bamkin, dem Vorsitzenden der Wikimedia UK, konzipiert und präsentiert. Es ist derzeit bei Viele Chinesen zogen in dieser Zeit auf die Ryūkyū-Inseln, um der Regierung zu dienen oder um sich im Handel zu betätigen. Auf WSaudi-Arabien und die Vereinigten Arabischen Emirate, die sich als nächste potenzielle Ziele des irakischen Expansionsstrebens bMit dem Amerikanischen Bürgerkrieg wurde „Lynching“ zu einem Instrument der Einschüchterung gegen Afroamerikaner oder andere Mindas Fischerboot MS Wave, das erst zum Hilfs-Minensuchboot USS Eagle und dann zur USS Captor wurde,\u0000\u0000\u0000\u0000\u0000\u0000\u0000\u0000\u0000\u0000\u0000\u0000\u0000\u0000\u0000\u0000\u0000\u0000\u0000\u0000\u0000\u0000\u0000\u0000\u0000\u0000\u0000\u0000\u0000\u0000Die Ereignisse von Oni finden im oder nach dem Jahr 2032 statt und beschreiben ein dystopisches Zukunftsbild der Erde. Die Welt Die Netzwerkprotokolle, die Novell entwickelte, basieren auf den Xerox Network Services (XNS), wurden aus Internet Datagram Prot6.000 Rebellen wurden gefangen genommen und von Crassus entlang der Via Appia von Rom nach Capua gekreuzigt.\u0000\u0000\u0000\u0000\u0000\u0000\u0000\u0000\u0000\u0000\u0000\u0000\u0000\u0000\u0000\u0000\u0000\u0000\u0000\u0000Am 14. Mai 1939 – im Alter von fünf Jahren, sieben Monaten und einigen Tagen – gebar Lina Medina ihren ersten Sohn Gerardo in LiNach ursprünglich japanischen Zeitungsberichten, die weltweit Echo fanden, soll Kim Jong-un in der Schweiz, in der Nähe von BernDie Definition der Plastischen Zahl geht auf den niederländischen Architekten Hans van der Laan zurück. Die Bezeichnung PlastikzIn Säugetieren wurden sieben recA-ähnliche Gene entdeckt: Rad51, Rad51L1/B, Rad51L2/C, Rad51L3/D, XRCC2, XRCC3, und DMC1/Lim15. 22. Januar bis 9. November 1901: His Royal Highness Prince Albert of Cornwall and York\u0000\u0000\u0000\u0000\u0000\u0000\u0000\u0000\u0000\u0000\u0000\u0000\u0000\u0000\u0000\u0000\u0000\u0000\u0000\u0000\u0000\u0000\u0000\u0000\u0000\u0000\u0000\u0000\u0000\u0000\u0000\u0000\u0000\u0000\u0000\u0000\u0000\u0000\u0000\u0000\u0000\u0000Neben der Schule nahm Jolie Schauspielunterricht am Lee Strasberg Theatre and Film Institute, an dem sie zwei Jahre lang das MetIm Februar 2006 wurde der Augsburger Generika-Konzern Betapharm für 480 Millionen Euro an Dr. Reddy's Laboratories verkauft.\u0000\u0000\u0000\u0000Während seiner Amtszeit nahm die Christenverfolgung zu, obwohl neue Kirchen und Friedhöfe gebaut werden konnten. Wahrscheinlich Apartheid bedeutet ‚Getrenntheit‘, gebildet aus dem Afrikaans- oder niederländischen Adjektiv apart für ‚getrennt, einzeln, besoAuch das Rastertunnelmikroskop ist ein Gerät, das einzelne Atome an der Oberfläche eines Körpers sichtbar macht. Es verwendet deAššur-nadin-apli (Aššur-nādin-apli, Aschschur-nadin-apli, Assur-nadin-apli) war ein mittelassyrischer König. Er regierte nach deLeona Harriet Woods, später Leona Woods Marshall, Leona Woods Marshall Libby, (* 9. August 1919 in La Grange (Illinois); † 10. NKreta wurde von einer Exilantengruppe aus al-Andalus erobert, die etwa 824 oder 827/828 auf der Insel landete und dort eine eigeWenig später entfloh Harriet Tubman erneut, dieses Mal ohne ihre Brüder. Ihre Familie versuchte sie über ihren erneuten FluchtveNicholas Black Elk (\"Schwarzer Hirsch\" oder \"Schwarzer Wapiti\"; Hehaka Sapa; * Dezember 1863; † 19. August 1950) war ein WichashWie viele zeitgenössische Feministen betrachtete Goldman die Abtreibung als eine tragische Konsequenz sozialer Zustände und GebuVor Ende der 1960er Jahre wurden Brände als grundsätzlich schädlich für Parks und Wälder eingeschätzt, so dass der Umgang mit ihDie Verbreitung günstiger Internetzugangsmöglichkeiten in Entwicklungsländern hat neue Möglichkeiten eröffnet, Geld von IndividuC. V. Raman wurde am 7. November 1888 als Sohn eines Mathematik- und Physikdozenten in Tiruchirappalli (Trichinopoly) in SüdindiIn manchen Gegenden, etwa in Bayern, Württemberg und im Rheinland, sind noch dazu private Maibäume üblich, die von jungen MännerRai wurde in Neu-Delhi geboren und wurde im Alter von zwei Jahren von einem US-amerikanischen Ehepaar adoptiert. Sie wuchs in MiBemalte Fenster, unter anderem eine Rosette mit der Darstellung der alten Wappen Sydneys, lassen Licht in die zentrale Halle. VoDie Existenz eines Mondes innerhalb der Encke-Teilung war bereits von Jeffrey N. Cuzzi and Jeffrey D. Scargle im Jahre 1985 voraIn China wird der Valentinstag „Liebhaberfest“ genannt (Qingrenjie, 情人节). Er wird am siebten Tag des siebten Monats des MondkaleAhron Daums religiöse Ausbildung begann im Alter von 13 Jahren in der litauisch-chassidischen „Ruzhin“-Jeschiwa in Bnei Brak. ImDie Netzwerkprotokolle, die Novell entwickelte, basieren auf den Xerox Network Services (XNS), wurden aus Internet Datagram ProtWoods erwarb schon mit 14 Jahren ihren High School Abschluss in La Grange und studierte an der University of Chicago Chemie mit Handler ist der Sohn von Sandra Handler, Opernsängerin und pensionierte Dekanin des City College von San Francisco, und Louis HaAstronomen bezeichnen Elemente, deren Ordnungszahl höher als die des Heliums ist, als „Metalle“.\u0000\u0000\u0000\u0000\u0000\u0000\u0000\u0000\u0000\u0000\u0000\u0000\u0000\u0000\u0000\u0000\u0000\u0000\u0000\u0000\u0000\u0000\u0000\u0000\u0000\u0000\u0000\u0000\u0000\u0000\u0000\u0000Der Begriff osechi bezog sich ursprünglich auf o-sechi, eine Jahreszeit oder einen wichtigen Zeitabschnitt. Der Neujahrstag war Traditioneller Nationalsport Togos ist der Ringkampf, ebenfalls eine bedeutende Rolle kommt dem Fußball zu. Die togoische FußbalDiese Frau, Ilana Mather, lebt jetzt in New York. Einen Aufenthalt anlässlich eines Kongresses in Boston nutzt Michael zu einem Bestimmt wird der ETD-Wert meist durch Fütterungsversuche an Ratten und Mäusen. Diesen wird die zu untersuchende Substanz in untEnde 1828 verbrachte er bei seinen Freunden nahe den Froland-Eisenwerken in Arendal und arbeitete intensiv. Er traf nochmals sei\n",
            "Bis Mitte des 20. Jahrhunderts glaubten die meisten Förster, dass Feuer jederzeit bekämpft werden sollten. Ab 1939 legten die ArIm September 2000 erschien mit New American Gospel das zweite Album der Band und das erste unter dem neuen Namen. Das erneut vonAuf dem Grundstück, ursprünglich der erste Marktplatz Sydneys, sollte unter Gouverneur Lachlan Macquarie ein großer öffentlicherIm heutigen London sind nur noch wenige Reste der antiken Stadt zu sehen. Ruinen der Stadtmauer (die wiederum im Mittelalter weiVon den 12.961 Haushalten hatten 40,2 Prozent Kinder oder Jugendliche, die mit ihnen zusammen lebten. 58,0 Prozent waren verheirViele der präkolumbischen Hochkulturen wurden sesshaft, entwickelten Ackerbau, bauten monumental und hatten komplexe soziale HieKamen war Sohn russischer Einwanderer und wuchs in Chicago auf, wo er Chemie studierte, mit dem Bachelor-Abschluss 1933 und der Katze und Maus in Gesellschaft ist ein Tiermärchen (ATU 15). Es steht in den Kinder- und Hausmärchen der Brüder Grimm an zweiterMit Hilfe eines Bekannten trat er während seines letzten High School Jahres der Schauspielschule Starhaus Entertainment bei. NacSahn (arabisch صحن, DMG ṣaḥn) bezeichnet in der islamischen Architektur einen ummauerten Innenhof. Gemäß dem traditionellen islaAlexander County ist in sieben Townships aufgeteilt: Ellendale, Gwaltneys, Little River, Millers, Sharpes, Sugar Loaf, TaylorsviMerced ist eine Stadt im Merced County im US-Bundesstaat Kalifornien mit 82.594 Einwohnern (Stand: 2016). Das Stadtgebiet hat eiJad Kennedy (heb.: יד קנדי, deutsch: Kennedy-Mahnmal), befindet sich im Mateh Jehuda Regionalverband bei Jerusalem, Israel. Es iNach der Beendigung seines Jura-Studiums an der Universität Kairo im Jahr 1967 arbeitete er beim ägyptischen Staatsrat, dem VerwDie oberste Legislative der Kolonie, der Massachusetts General Court, beschloss am 28. Oktober 1636, trotz knapper Kassen ein CoIm selben Jahr erließ die Regierung auf Anordnung Georgs die Königliche Proklamation von 1763, welche die Ausdehnung der nordameIn den letzten Jahren hat die Feier des Valentinstags auch in Rumänien Einzug gehalten. Mehrere Gruppierungen, Institutionen undRødt oder nynorsk Raudt (R; deutsch: Rot) ist eine marxistische und demokratisch-sozialistische Partei in Norwegen. Sie entsendeDer Median des Einkommens eines Haushaltes beträgt 46.795 USD, der einer Familie 60.424 USD. Das Prokopfeinkommen liegt bei 23.5Daum veröffentlichte zwei Bücher. Sein erstes Buch „Halacha aktuell“ ist ein zweibändiges Werk, geschrieben in Deutsch, welches Ahron Daums religiöse Ausbildung begann im Alter von 13 Jahren in der litauisch-chassidischen „Ruzhin“-Jeschiwa in Bnei Brak. ImIm Jahr 2001 stieg Jaitley in die Fußstapfen ihrer Mutter und wurde zur Miss India gekrönt. Sie gewann noch einige andere AuszeiDas Commonwealth Parliament wurde am 9. Mai 1901 in Melbourne eröffnet. Das einzige Gebäude in ganz Melbourne, welches groß genuDie Geschichte des Tempels reicht bis ins Jahr 798 zurück, die heutigen Gebäude wurden allerdings im Jahr 1633 errichtet. Der TeIn Finnland wird der Valentinstag Ystävänpäivä („Tag der Freunde“) genannt. Es werden meistens anonym Karten oder kleine GeschenLawrence Lessig behauptet, dass Copyright ein Hindernis für kulturelle Produktion, Wissensverteilung und für technologische InnoGeorg wurde am Morgen des 4. Juni 1738 im Norfolk House in London geboren. Er war ein Mitglied des Fürstengeschlechts der WelfenDie mRNA, Boten-RNA (engl. messenger RNA) kopiert die in einem Gen auf der DNA liegende Information und trägt sie zum Ribosom, wReichweite und Bandbreite: Mobiler Internetzugriff ist generell langsamer als direkte Kabelverbindungen. Verwendete TechnologienJean C. Cooper schreibt im Wörterbuch des Christentums, der hl. Valentin sei ein römischer Priester gewesen, „der eingesperrt wuWährend der Zeit, die John im westlichen Pazifischen Ozean verbrachte, hatte das Joint Typhoon Warning Center (JTWC) SchwierigkeDie NASA, die ESA und die CSA kooperieren seit 1996 beim Projekt des neuen Weltraumteleskops. Der Anteil der Beteiligung der ESAJolie ist heute eine der bekanntesten Persönlichkeiten weltweit. Laut Q-Score-Index von Marketing Evaluations Inc. kannten JolieNach wie vor widmete sie sich der Malerei. Sie hielt Kontakt mit der Kronberger Malerkolonie und tauschte sich besonders mit NorNicholas John Spykman (* 13. Oktober 1893 in Amsterdam; † 26. Juni 1943 in New Haven, Connecticut) war ein niederländisch-amerikDrei Boeing 737-500 stießen 2005 zur Flotte und wurden in erster Linie für nationale Strecken mit geringerem Verkehrsaufkommen eÜber an Ausländer gerichtete Werbung des Süßwarenunternehmens Morozoff wurde der Valentinstag 1936 in Japan bekannt. 1953 stelltAir-India-Flug-101 war ein planmäßiger internationaler Flug von Bombay (heute: Mumbai) nach New York mit Zwischenstopps in DelhiAlexander Pope (* 21. Mai 1688 in London; † 30. Mai 1744 in Twickenham, heute Teil von London) war ein englischer Dichter, ÜbersWolf 359 ist ein Roter Zwerg im Sternbild Löwe. Mit einer Entfernung von ca. 7,8 Lichtjahren ist er der dem Sonnensystem fünftnäIm Fernen Osten wurden – neben Wasseruhren, mechanischen Uhren und Kerzenuhren – auch Weihrauchuhren in den verschiedensten FormAamir Khan (Hindi आमिर ख़ान Āmir Khān, * 14. März 1965 in Bombay, Maharashtra, als Mohammed Aamir Hussain Khan) ist ein indischeMethyllithium ist eine chemische Verbindung aus der Gruppe der Organolithium-Verbindungen mit der empirischen Formel CH3Li. Es iDer Steppenadler kommt von Rumänien über die Aralsteppe bis nach Transbaikal und in die Mongolei vor. Er ist in Steppen sowie ofDer Ursprung von Hurricane Norman am 25. August lag in einem ausgedehnten Tiefdruckgebiet mehrere Hundert Kilometer südsüdwestliGeorg nannte den Vertrag mit Frankreich einen „experimentellen Frieden“. 1803 erklärten sich beide Länder gegenseitig den Krieg,Bays lebt gemeinsam mit seiner Ehefrau Denise Cox in Los Angeles. Sie haben zwei gemeinsame Töchter. Bays studierte bis 1997 an Es folgt aus der Lorentzkontraktion, dass im Ruhezustand sphärische Schwerionen bei relativistischen Geschwindigkeiten in BeweguKlepsydren waren nützlicher als Sonnenuhren, da sie im Haus, während der Nacht und wenn der Himmel bewölkt war verwendet werden Reichweite und Bandbreite: Mobiler Internetzugriff ist generell langsamer als direkte Kabelverbindungen. Verwendete TechnologienNach der Volkszählung im Jahr 2000 lebten im Jim Wells County 39.326 Menschen in 12.961 Haushalten und 10.096 Familien. Die BevöHalimede wurde am 14. August 2002 durch ein Team bestehend aus Matthew J. Holman, John J. Kavelaars, Tommy Grav, Brett J. GladmaWährend seiner Arbeiten erzeugte er Wellen mit einer Wellenlänge von 5 Millimetern, untersuchte Refraktion, Diffraktion und PolaNachdem Mark Morton seinen Abschluss schaffte, verließ er die Band und zog nach Chicago. Sein Nachfolger wurde Abe Spear. Mit RaDas Tejas ist mit einer vierfach redundanten Fly-by-Wire-Steuerung nach dem HOTAS-Prinzip und moderner Avionik ausgerüstet. Dazu2011: Korea Drama Festival: Hallyu Star Award für City Hunter\u0000\u0000\u0000\u0000\u0000\u0000\u0000\u0000\u0000\u0000\u0000\u0000\u0000\u0000\u0000\u0000\u0000\u0000\u0000\u0000\u0000\u0000\u0000\u0000\u0000\u0000\u0000\u0000\u0000\u0000\u0000\u0000\u0000\u0000\u0000\u0000\u0000\u0000\u0000\u0000\u0000\u0000\u0000\u0000\u0000\u0000\u0000\u0000\u0000\u0000\u0000\u0000\u0000\u0000\u0000\u0000\u0000\u0000\u0000\u0000\u0000\u0000\u0000\u0000\u0000\u0000\u00001969 veröffentlichte er Amerika und die neuen Mandarine, eine Sammlung von Aufsätzen über den Vietnamkrieg, die Einfluss auf dieThales von Milet (Urstoff: Wasser), Anaximenes von Milet (Urstoff: Luft), Heraklit (Urstoff: Feuer). Empedokles von Agrigent sahDa sich TJ während der Schießerei im Transporter der Entführer versteckt hat, kann er Matt telefonisch zu ihrem Versteck lotsen.Als Edelgas reagiert Argon fast nicht mit anderen Elementen oder Verbindungen. Bislang ist nur das experimentell dargestellte ArWega wurde von den Astronomen ausgiebig untersucht. Dies führte dazu, dass sie „wohl als der wichtigste Stern nach der Sonne“ giMarco Casagrande (* 7. Mai 1971 in Turku, Finnland) ist ein finnischer Architekt, Schriftsteller und Professor der Architektur. Deutsch-Südwestafrika war von 1884 bis 1915 eine deutsche Kolonie (auch Schutzgebiet) auf dem Gebiet des heutigen Staates NamibiAlan Thicke wurde als Sohn von Joan, einer Krankenschwester, und William Jeffrey, einem Börsenmakler, geboren. Seine Mutter heirHilversum liegt im Gooiland, einem Gebiet mit Heide, Wald, Wiesen und kleinen Seen. Die Stadt ist 30 km südöstlich von AmsterdamShaw beschwört über Funk die restliche Besatzung an Bord der Prometheus, mit allen Mitteln zu verhindern, dass der Konstrukteur Eine ruhigere Kriegsphase im Jahr 1800 erlaubte es William Pitt, den seit 1798 anhaltenden Aufstand in Irland niederzuwerfen. DaRussells Teekanne (englisch Russell’s teapot) ist eine Analogie, die Bertrand Russell (1872–1970) in einem Artikel mit dem TitelICON A5 ist ein Hochdecker-Amphibienflugzeug aus kohlenstofffaserverstärktem Kunststoff mit einziehbarem Fahrwerk. Das LeichtfluAm folgenden Tag, dem 18. Januar, wurden vom Irak aus erstmals acht R-17-Raketen auf Israel abgefeuert. Im Verlauf des Krieges wDie Provinz Jizzax (usbekisch: Jizzax viloyati, Жиззах вилояти; Englisch: Jizakh; Aussprache: [dʒizːaχ]) ist ein Viloyat (ProvinAm 29. August absorbierte ein außertropisches Tief westnordwestlich von Hawaii die Reste von Hurrikan Lane. Das System zog durch1998: Paranoija (Stekla i beton) (Паранойя (Стекла и бетон))\u0000\u0000\u0000\u0000\u0000\u0000\u0000\u0000\u0000\u0000\u0000\u0000\u0000\u0000\u0000\u0000\u0000\u0000\u0000\u0000\u0000\u0000\u0000\u0000\u0000\u0000\u0000\u0000\u0000\u0000\u0000\u0000\u0000\u0000\u0000\u0000\u0000\u0000\u0000\u0000\u0000\u0000\u0000\u0000\u0000\u0000\u0000\u0000\u0000\u0000\u0000\u0000\u0000\u0000\u0000\u0000\u0000\u0000\u0000\u0000\u0000\u0000\u0000\u0000\u0000\u0000\u0000\u0000Diese Lochung eignet sich für alle Papierformate mit einer Höhe von mindestens 260 mm, also ISO A4 und größer.\u0000\u0000\u0000\u0000\u0000\u0000\u0000\u0000\u0000\u0000\u0000\u0000\u0000\u0000\u0000\u0000\u0000\u0000Wissenschaftliche Theorien werden oftmals als „Numerologie“ bezeichnet, wenn der ursprüngliche Zweck der Studie auf einer Reihe Die Haplogruppe L1 ist in der Humangenetik eine Haplogruppe der Mitochondrien. Die Haplogruppe L1 findet sich in West- und ZentrZwicky war der Sohn eines in Bulgarien tätigen Schweizer Baumwollhändlers. Mit sechs Jahren wurde er zwecks Einschulung nach GlaGeorg erhielt von Satirikern den Spitznamen Farmer George („Bauer Georg“). Diese machten sich zuerst über sein Interesse an alltDer Olympic Council of Asia (kurz OCA; deutsch: Olympischer Rat Asiens) ist ein Sportverband in Asien mit derzeit 45 Nationalen In der griechischen Tradition wurden bereits zu Lebzeiten Sokrates' Wasseruhren (Klepsydren) zur Begrenzung der Redezeit vor GerAm 2. Januar 1861 starb König Friedrich Wilhelm IV. Sein Nachfolger war sein Bruder Wilhelm I. Prinz Friedrich Wilhelm war damitGrundlage der Waffe war die Vorgängerversion NR-23, die verlängert und dahingehend modifiziert wurde, dass sie stärkere MunitionGeorg wurde am Morgen des 4. Juni 1738 im Norfolk House in London geboren. Er war ein Mitglied des Fürstengeschlechts der WelfenGliese 436 b (auch GJ 436 b) ist ein Exoplanet, der den Roten Zwerg Gliese 436 umkreist. Er ist möglicherweise ein sogenannter „Das gesamte Personal des Hauses ist eines Tages ohne Nachricht verschwunden, so engagiert Grace in der Woche darauf die HaushältDas in der Volksrepublik China betriebene Sozialkredit-System (englisch Social Credits) ist ein auf verschiedene Datenbanken zugQRpedia wurde im April 2011 von Roger Bamkin, dem Vorsitzenden der Wikimedia UK, konzipiert und präsentiert. Es ist derzeit bei Viele Chinesen zogen in dieser Zeit auf die Ryūkyū-Inseln, um der Regierung zu dienen oder um sich im Handel zu betätigen. Auf WSaudi-Arabien und die Vereinigten Arabischen Emirate, die sich als nächste potenzielle Ziele des irakischen Expansionsstrebens bMit dem Amerikanischen Bürgerkrieg wurde „Lynching“ zu einem Instrument der Einschüchterung gegen Afroamerikaner oder andere Mindas Fischerboot MS Wave, das erst zum Hilfs-Minensuchboot USS Eagle und dann zur USS Captor wurde,\u0000\u0000\u0000\u0000\u0000\u0000\u0000\u0000\u0000\u0000\u0000\u0000\u0000\u0000\u0000\u0000\u0000\u0000\u0000\u0000\u0000\u0000\u0000\u0000\u0000\u0000\u0000\u0000\u0000\u0000Die Ereignisse von Oni finden im oder nach dem Jahr 2032 statt und beschreiben ein dystopisches Zukunftsbild der Erde. Die Welt Die Netzwerkprotokolle, die Novell entwickelte, basieren auf den Xerox Network Services (XNS), wurden aus Internet Datagram Prot6.000 Rebellen wurden gefangen genommen und von Crassus entlang der Via Appia von Rom nach Capua gekreuzigt.\u0000\u0000\u0000\u0000\u0000\u0000\u0000\u0000\u0000\u0000\u0000\u0000\u0000\u0000\u0000\u0000\u0000\u0000\u0000\u0000Am 14. Mai 1939 – im Alter von fünf Jahren, sieben Monaten und einigen Tagen – gebar Lina Medina ihren ersten Sohn Gerardo in LiNach ursprünglich japanischen Zeitungsberichten, die weltweit Echo fanden, soll Kim Jong-un in der Schweiz, in der Nähe von BernDie Definition der Plastischen Zahl geht auf den niederländischen Architekten Hans van der Laan zurück. Die Bezeichnung PlastikzIn Säugetieren wurden sieben recA-ähnliche Gene entdeckt: Rad51, Rad51L1/B, Rad51L2/C, Rad51L3/D, XRCC2, XRCC3, und DMC1/Lim15. 22. Januar bis 9. November 1901: His Royal Highness Prince Albert of Cornwall and York\u0000\u0000\u0000\u0000\u0000\u0000\u0000\u0000\u0000\u0000\u0000\u0000\u0000\u0000\u0000\u0000\u0000\u0000\u0000\u0000\u0000\u0000\u0000\u0000\u0000\u0000\u0000\u0000\u0000\u0000\u0000\u0000\u0000\u0000\u0000\u0000\u0000\u0000\u0000\u0000\u0000\u0000Neben der Schule nahm Jolie Schauspielunterricht am Lee Strasberg Theatre and Film Institute, an dem sie zwei Jahre lang das MetIm Februar 2006 wurde der Augsburger Generika-Konzern Betapharm für 480 Millionen Euro an Dr. Reddy's Laboratories verkauft.\u0000\u0000\u0000\u0000Während seiner Amtszeit nahm die Christenverfolgung zu, obwohl neue Kirchen und Friedhöfe gebaut werden konnten. Wahrscheinlich Apartheid bedeutet ‚Getrenntheit‘, gebildet aus dem Afrikaans- oder niederländischen Adjektiv apart für ‚getrennt, einzeln, besoAuch das Rastertunnelmikroskop ist ein Gerät, das einzelne Atome an der Oberfläche eines Körpers sichtbar macht. Es verwendet deAššur-nadin-apli (Aššur-nādin-apli, Aschschur-nadin-apli, Assur-nadin-apli) war ein mittelassyrischer König. Er regierte nach deLeona Harriet Woods, später Leona Woods Marshall, Leona Woods Marshall Libby, (* 9. August 1919 in La Grange (Illinois); † 10. NKreta wurde von einer Exilantengruppe aus al-Andalus erobert, die etwa 824 oder 827/828 auf der Insel landete und dort eine eigeWenig später entfloh Harriet Tubman erneut, dieses Mal ohne ihre Brüder. Ihre Familie versuchte sie über ihren erneuten FluchtveNicholas Black Elk (\"Schwarzer Hirsch\" oder \"Schwarzer Wapiti\"; Hehaka Sapa; * Dezember 1863; † 19. August 1950) war ein WichashWie viele zeitgenössische Feministen betrachtete Goldman die Abtreibung als eine tragische Konsequenz sozialer Zustände und GebuVor Ende der 1960er Jahre wurden Brände als grundsätzlich schädlich für Parks und Wälder eingeschätzt, so dass der Umgang mit ihDie Verbreitung günstiger Internetzugangsmöglichkeiten in Entwicklungsländern hat neue Möglichkeiten eröffnet, Geld von IndividuC. V. Raman wurde am 7. November 1888 als Sohn eines Mathematik- und Physikdozenten in Tiruchirappalli (Trichinopoly) in SüdindiIn manchen Gegenden, etwa in Bayern, Württemberg und im Rheinland, sind noch dazu private Maibäume üblich, die von jungen MännerRai wurde in Neu-Delhi geboren und wurde im Alter von zwei Jahren von einem US-amerikanischen Ehepaar adoptiert. Sie wuchs in MiBemalte Fenster, unter anderem eine Rosette mit der Darstellung der alten Wappen Sydneys, lassen Licht in die zentrale Halle. VoDie Existenz eines Mondes innerhalb der Encke-Teilung war bereits von Jeffrey N. Cuzzi and Jeffrey D. Scargle im Jahre 1985 voraIn China wird der Valentinstag „Liebhaberfest“ genannt (Qingrenjie, 情人节). Er wird am siebten Tag des siebten Monats des MondkaleAhron Daums religiöse Ausbildung begann im Alter von 13 Jahren in der litauisch-chassidischen „Ruzhin“-Jeschiwa in Bnei Brak. ImDie Netzwerkprotokolle, die Novell entwickelte, basieren auf den Xerox Network Services (XNS), wurden aus Internet Datagram ProtWoods erwarb schon mit 14 Jahren ihren High School Abschluss in La Grange und studierte an der University of Chicago Chemie mit Handler ist der Sohn von Sandra Handler, Opernsängerin und pensionierte Dekanin des City College von San Francisco, und Louis HaAstronomen bezeichnen Elemente, deren Ordnungszahl höher als die des Heliums ist, als „Metalle“.\u0000\u0000\u0000\u0000\u0000\u0000\u0000\u0000\u0000\u0000\u0000\u0000\u0000\u0000\u0000\u0000\u0000\u0000\u0000\u0000\u0000\u0000\u0000\u0000\u0000\u0000\u0000\u0000\u0000\u0000\u0000\u0000Der Begriff osechi bezog sich ursprünglich auf o-sechi, eine Jahreszeit oder einen wichtigen Zeitabschnitt. Der Neujahrstag war Traditioneller Nationalsport Togos ist der Ringkampf, ebenfalls eine bedeutende Rolle kommt dem Fußball zu. Die togoische FußbalDiese Frau, Ilana Mather, lebt jetzt in New York. Einen Aufenthalt anlässlich eines Kongresses in Boston nutzt Michael zu einem Bestimmt wird der ETD-Wert meist durch Fütterungsversuche an Ratten und Mäusen. Diesen wird die zu untersuchende Substanz in untEnde 1828 verbrachte er bei seinen Freunden nahe den Froland-Eisenwerken in Arendal und arbeitete intensiv. Er traf nochmals sei\n",
            "1.0\n"
          ]
        }
      ]
    },
    {
      "cell_type": "code",
      "source": [],
      "metadata": {
        "id": "9r4WM3TeYmhp"
      },
      "execution_count": null,
      "outputs": []
    }
  ],
  "metadata": {
    "accelerator": "GPU",
    "colab": {
      "gpuType": "T4",
      "provenance": []
    },
    "kernelspec": {
      "display_name": "Python 3",
      "name": "python3"
    }
  },
  "nbformat": 4,
  "nbformat_minor": 0
}